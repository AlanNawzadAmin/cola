{
 "cells": [
  {
   "attachments": {},
   "cell_type": "markdown",
   "metadata": {},
   "source": [
    "First install the repo and requirements."
   ]
  },
  {
   "cell_type": "code",
   "execution_count": null,
   "metadata": {},
   "outputs": [],
   "source": [
    "%pip --quiet install git+https://github.com/wilson-laps/cola.git"
   ]
  },
  {
   "attachments": {},
   "cell_type": "markdown",
   "id": "bfb3e774",
   "metadata": {},
   "source": [
    "# Linear Regression"
   ]
  },
  {
   "attachments": {},
   "cell_type": "markdown",
   "id": "ecf53cd2",
   "metadata": {},
   "source": [
    "In this notebook"
   ]
  },
  {
   "cell_type": "code",
   "execution_count": 12,
   "id": "6a0529de",
   "metadata": {},
   "outputs": [],
   "source": [
    "import cola\n",
    "import numpy as np\n",
    "\n",
    "Phi = np.random.randn(100, 10)\n",
    "y = np.random.randn(100)"
   ]
  },
  {
   "cell_type": "code",
   "execution_count": 13,
   "id": "1e988043",
   "metadata": {},
   "outputs": [
    {
     "name": "stdout",
     "output_type": "stream",
     "text": [
      "(10, 10)\n",
      "(10, 10)\n"
     ]
    }
   ],
   "source": [
    "beta = cola.pinv(cola.lazify(Phi))@y"
   ]
  },
  {
   "cell_type": "code",
   "execution_count": 14,
   "id": "af2b25e2",
   "metadata": {},
   "outputs": [
    {
     "data": {
      "text/plain": [
       "Array([-2.8133503e-01, -6.8498075e-01, -1.3149095e+00, -1.0082166e+00,\n",
       "        2.4328026e-01, -2.5134164e-01,  1.2275592e+00, -3.6063090e-01,\n",
       "        1.0228461e+00,  4.8176247e-01,  2.4515748e-02,  1.5277545e+00,\n",
       "        6.9866240e-01,  6.3340616e-01, -7.6614183e-01,  1.6534162e-01,\n",
       "       -2.6858121e-01, -8.3941281e-02, -1.4771845e+00,  5.0453532e-01,\n",
       "        1.3546829e+00, -1.5113050e+00, -5.5564511e-01,  5.8757210e-01,\n",
       "       -1.1305550e+00, -5.7743847e-01,  4.4204882e-01, -2.6575285e-01,\n",
       "        9.5895636e-01, -6.6989005e-02, -9.7646546e-01, -2.1887391e+00,\n",
       "       -5.7405859e-01,  4.3704781e-01,  1.1297107e-02, -1.5603948e+00,\n",
       "       -7.0440865e-01, -1.8541943e-01,  7.3149502e-02, -1.9066206e-01,\n",
       "        1.1392941e+00, -7.3826164e-01,  3.8223261e-01, -5.5583775e-01,\n",
       "        2.3640072e+00, -1.1906821e+00, -2.0963386e-01,  1.3047632e+00,\n",
       "       -4.1914463e-02,  2.8329283e-01,  1.3649665e+00, -1.6212448e-01,\n",
       "        9.4806492e-01, -6.9114715e-02, -8.3822167e-01,  4.7022796e-01,\n",
       "        1.5368711e+00, -1.0934949e-02,  2.0376792e+00, -5.2587277e-01,\n",
       "       -1.5108467e+00,  5.6390956e-02, -1.3199463e-01,  6.8185157e-01,\n",
       "        3.9142489e-02,  1.1205673e-03,  1.5505136e+00, -1.3812875e+00,\n",
       "       -1.0571190e+00, -1.2852117e-01,  5.4426450e-01,  1.6535527e+00,\n",
       "        1.5863507e+00,  7.9155630e-01,  5.4153681e-01, -2.1084478e+00,\n",
       "       -6.1144495e-01,  1.1945677e+00,  1.3375098e-01, -1.1145835e-01,\n",
       "        1.5879626e+00,  3.0599594e-01, -2.3142693e+00,  3.1630003e-01,\n",
       "       -7.3480797e-01,  4.0719539e-01, -1.0716084e-01,  1.3341182e+00,\n",
       "       -2.8277159e-02, -5.0273520e-01,  3.2505089e-01,  3.8933972e-01,\n",
       "        4.1042656e-02,  2.9908633e-01,  1.2855537e+00, -1.3554521e+00,\n",
       "        1.6998879e+00, -3.6336839e-01, -7.4438840e-01,  1.2404649e+00],      dtype=float32)"
      ]
     },
     "execution_count": 14,
     "metadata": {},
     "output_type": "execute_result"
    }
   ],
   "source": [
    "Phi@beta-y"
   ]
  },
  {
   "cell_type": "code",
   "execution_count": null,
   "id": "ed07ce80",
   "metadata": {},
   "outputs": [],
   "source": []
  }
 ],
 "metadata": {
  "accelerator": "GPU",
  "kernelspec": {
   "display_name": "Python 3",
   "language": "python",
   "name": "python3"
  },
  "language_info": {
   "codemirror_mode": {
    "name": "ipython",
    "version": 3
   },
   "file_extension": ".py",
   "mimetype": "text/x-python",
   "name": "python",
   "nbconvert_exporter": "python",
   "pygments_lexer": "ipython3",
   "version": "3.8.5"
  }
 },
 "nbformat": 4,
 "nbformat_minor": 4
}

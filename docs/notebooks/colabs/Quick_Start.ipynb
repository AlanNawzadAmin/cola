{
 "cells": [
  {
   "attachments": {},
   "cell_type": "markdown",
   "metadata": {},
   "source": [
    "First install the repo and requirements."
   ]
  },
  {
   "cell_type": "code",
   "execution_count": null,
   "metadata": {},
   "outputs": [],
   "source": [
    "%pip --quiet install git+https://github.com/wilson-labs/cola.git"
   ]
  },
  {
   "cell_type": "markdown",
   "id": "db6a4e6e",
   "metadata": {},
   "source": [
    "# Quick Start"
   ]
  },
  {
   "cell_type": "markdown",
   "id": "bfe766bf",
   "metadata": {},
   "source": [
    "We now showcase the basic functionality present in CoLA. We'll start by showing how to define different types of Linear ops, then we'll show how to perform basic arithmetic with Linear ops and, finally, we'll conclude applying some linear algebra operations (like solves or log determinants) to the Linear ops.\n",
    "\n",
    "We'll work with torch.tensors in this example, but the same code can be run using JAX arrays (jnp.ndarrays). "
   ]
  },
  {
   "cell_type": "code",
   "execution_count": 1,
   "id": "59a79e4b",
   "metadata": {},
   "outputs": [
    {
     "data": {
      "text/plain": [
       "<torch._C.Generator at 0x7fd8dbf60df0>"
      ]
     },
     "execution_count": 1,
     "metadata": {},
     "output_type": "execute_result"
    }
   ],
   "source": [
    "import cola as co\n",
    "import torch\n",
    "torch.manual_seed(21)"
   ]
  },
  {
   "cell_type": "markdown",
   "id": "e53243fb",
   "metadata": {},
   "source": [
    "## Creating a Linear Operator"
   ]
  },
  {
   "cell_type": "markdown",
   "id": "b2eb2c59",
   "metadata": {},
   "source": [
    "You can find several predefined Linear ops under cola.ops. We'll ilustrate three basic cases: Dense, Diagonal and Tridiagonal."
   ]
  },
  {
   "cell_type": "markdown",
   "id": "6533e4e6",
   "metadata": {},
   "source": [
    "A Dense Linear Operator is nothing more than a wrapper on a dense matrix, where the wrapper defines a matmat function $v \\mapsto Av$ and holds several attributes such as dtype and shape.\n",
    "\n",
    "Let's start by defining a dense matrix and a vector to act upon. Below we show the entries of the matrix $A$, of the vector $v$ and the result of $Av$."
   ]
  },
  {
   "cell_type": "code",
   "execution_count": 2,
   "id": "a6b5a337",
   "metadata": {},
   "outputs": [
    {
     "name": "stdout",
     "output_type": "stream",
     "text": [
      "tensor([[ 0.1081, -0.4376, -0.7697],\n",
      "        [-0.1929, -0.3626, -2.8451],\n",
      "        [ 1.4435,  0.4976,  0.6542]])\n",
      "tensor([ 0.0754, -1.0767,  0.1269])\n",
      "tensor([ 0.3816,  0.0147, -0.3438])\n"
     ]
    }
   ],
   "source": [
    "N = 3\n",
    "A_dense = torch.randn(N, N)\n",
    "vec = torch.randn(N)\n",
    "print(A_dense)\n",
    "print(vec)\n",
    "print(A_dense @ vec)"
   ]
  },
  {
   "cell_type": "markdown",
   "id": "961e5e5f",
   "metadata": {},
   "source": [
    "To create a Dense operator simply run:"
   ]
  },
  {
   "cell_type": "code",
   "execution_count": 3,
   "id": "ca58aa3f",
   "metadata": {},
   "outputs": [
    {
     "name": "stdout",
     "output_type": "stream",
     "text": [
      "<class 'cola.ops.Dense'>\n"
     ]
    }
   ],
   "source": [
    "A = co.ops.Dense(A_dense)\n",
    "print(type(A))"
   ]
  },
  {
   "cell_type": "markdown",
   "id": "7341fbcc",
   "metadata": {},
   "source": [
    "The previous operator now has a dtype and a shape attribute. More importantly, it can now act on the vector $v$ and get the same result as above."
   ]
  },
  {
   "cell_type": "code",
   "execution_count": 4,
   "id": "a3d963cb",
   "metadata": {},
   "outputs": [
    {
     "name": "stdout",
     "output_type": "stream",
     "text": [
      "Dtype: torch.float32 | Shape: torch.Size([3, 3])\n",
      "tensor([ 0.3816,  0.0147, -0.3438])\n"
     ]
    }
   ],
   "source": [
    "print(f\"Dtype: {A.dtype} | Shape: {A.shape}\")\n",
    "print(A @ vec)"
   ]
  },
  {
   "cell_type": "markdown",
   "id": "2da5ce40",
   "metadata": {},
   "source": [
    "To define a Diagonal Linear Operator we only have to pass a diagonal like below and we can reconstruct the dense matrix by using the to_dense()."
   ]
  },
  {
   "cell_type": "code",
   "execution_count": 5,
   "id": "301c7b62",
   "metadata": {},
   "outputs": [
    {
     "name": "stdout",
     "output_type": "stream",
     "text": [
      "tensor([[1., 0., 0.],\n",
      "        [0., 2., 0.],\n",
      "        [0., 0., 3.]])\n"
     ]
    }
   ],
   "source": [
    "diagonal = torch.tensor([1., 2., 3])\n",
    "D = co.ops.Diagonal(diagonal)\n",
    "print(D.to_dense())"
   ]
  },
  {
   "cell_type": "markdown",
   "id": "2938780e",
   "metadata": {},
   "source": [
    "We follow a similar procedure for a Tridiagonal Linear Operator, where we now provide the diagonal but also the lower and upper bands of the matrix."
   ]
  },
  {
   "cell_type": "code",
   "execution_count": 6,
   "id": "d8af13a4",
   "metadata": {},
   "outputs": [
    {
     "name": "stdout",
     "output_type": "stream",
     "text": [
      "tensor([[ 3.,  1.,  0.],\n",
      "        [-1.,  3.,  1.],\n",
      "        [ 0., -1.,  3.]])\n"
     ]
    }
   ],
   "source": [
    "upper_band = torch.tensor([[1., 1.]]).T\n",
    "lower_band = torch.tensor([[-1., -1.]]).T\n",
    "diagonal = torch.tensor([[3., 3., 3.]]).T\n",
    "T = co.ops.Tridiagonal(lower_band, diagonal, upper_band)\n",
    "print(T.to_dense())"
   ]
  },
  {
   "cell_type": "markdown",
   "id": "fcac7b63",
   "metadata": {},
   "source": [
    "It is worth noting that for both the Diagonal and the Tridiagonal ops, the cost of doing an MVM is no longer $O(N^2)$ but rather $O(N)$.\n",
    "\n",
    "Overall, the different types of predefined Linear ops in CoLA have different requirements, but usually they contained a representation that is either much sparser than the dense one or has faster MVMs (or both)."
   ]
  },
  {
   "cell_type": "markdown",
   "id": "5e3ad4c5",
   "metadata": {},
   "source": [
    "## Doing binary operations with Linear ops"
   ]
  },
  {
   "cell_type": "markdown",
   "id": "2b517daa",
   "metadata": {},
   "source": [
    "CoLA provides a similar interface to combine Linear ops as you would combine matrices. For example, to sum two Linear ops we simply do."
   ]
  },
  {
   "cell_type": "code",
   "execution_count": 7,
   "id": "f2a25ebe",
   "metadata": {},
   "outputs": [
    {
     "name": "stdout",
     "output_type": "stream",
     "text": [
      "tensor([[ 4.,  1.,  0.],\n",
      "        [-1.,  5.,  1.],\n",
      "        [ 0., -1.,  6.]])\n"
     ]
    }
   ],
   "source": [
    "DT = D + T\n",
    "print(DT.to_dense())"
   ]
  },
  {
   "cell_type": "markdown",
   "id": "672753f0",
   "metadata": {},
   "source": [
    "However, we can combine the Linear Operator much further. For example, we can create a new linear operator $B= A(D-T) + \\mu I$ regularized by $\\mu$ by running the following code."
   ]
  },
  {
   "cell_type": "code",
   "execution_count": 8,
   "id": "ab53f7a9",
   "metadata": {},
   "outputs": [
    {
     "name": "stdout",
     "output_type": "stream",
     "text": [
      "Densediag(tensor([1., 2., 3.]))+-1*Tridiagonal+1e-06*\n"
     ]
    }
   ],
   "source": [
    "from cola.linear_algebra import I_like\n",
    "mu = 1e-6\n",
    "B = A @ (D - T)\n",
    "B += mu * I_like(B)\n",
    "print(B)"
   ]
  },
  {
   "cell_type": "markdown",
   "id": "04fce179",
   "metadata": {},
   "source": [
    "Under the hood the operator $B$ is lazily defined and would know how to apply the Linear ops to any vector $v$."
   ]
  },
  {
   "cell_type": "markdown",
   "id": "a7ff6087",
   "metadata": {},
   "source": [
    "## Computing solves and log determinants"
   ]
  },
  {
   "cell_type": "markdown",
   "id": "c20bab0b",
   "metadata": {},
   "source": [
    "To solve the linear system $Bx=v$ we use the inverse function. This inverse function lazily defines $B^{-1}$ and hence applying it to $v$ yields the solution $x=B^{-1}v$. The inverse of $B$ is never computed, using $B^{-1}$ is simply how in CoLA we call linear solves."
   ]
  },
  {
   "cell_type": "code",
   "execution_count": 9,
   "id": "7f86d272",
   "metadata": {},
   "outputs": [
    {
     "name": "stdout",
     "output_type": "stream",
     "text": [
      "6.366e-08\n"
     ]
    }
   ],
   "source": [
    "B_inv = co.inverse(B)\n",
    "soln = B_inv @ vec\n",
    "abs_res = torch.linalg.norm(B @ soln - vec)\n",
    "print(f\"{abs_res:1.3e}\")"
   ]
  },
  {
   "cell_type": "markdown",
   "id": "d46c81d4",
   "metadata": {},
   "source": [
    "Let's construct a PSD Linear Operator in order to apply the log determinant operation. Let's set $C=(D + T)(D + T)^{*}$ which would be a symmetric diagonally-dominant operator."
   ]
  },
  {
   "cell_type": "code",
   "execution_count": 10,
   "id": "a1187e92",
   "metadata": {},
   "outputs": [
    {
     "data": {
      "text/plain": [
       "tensor(1.7918)"
      ]
     },
     "execution_count": 10,
     "metadata": {},
     "output_type": "execute_result"
    }
   ],
   "source": [
    "co.logdet(D)  # Finish adding the implementation for a PSD op"
   ]
  }
 ],
 "metadata": {
  "accelerator": "GPU",
  "kernelspec": {
   "display_name": "Python 3",
   "language": "python",
   "name": "python3"
  },
  "language_info": {
   "codemirror_mode": {
    "name": "ipython",
    "version": 3
   },
   "file_extension": ".py",
   "mimetype": "text/x-python",
   "name": "python",
   "nbconvert_exporter": "python",
   "pygments_lexer": "ipython3",
   "version": "3.8.5"
  }
 },
 "nbformat": 4,
 "nbformat_minor": 4
}

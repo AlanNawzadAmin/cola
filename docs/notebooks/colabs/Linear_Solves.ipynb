{
 "cells": [
  {
   "attachments": {},
   "cell_type": "markdown",
   "metadata": {},
   "source": [
    "First install the repo and requirements."
   ]
  },
  {
   "cell_type": "code",
   "execution_count": null,
   "metadata": {},
   "outputs": [],
   "source": [
    "%pip --quiet install git+https://github.com/wilson-labs/cola.git"
   ]
  },
  {
   "cell_type": "markdown",
   "id": "ab7777af",
   "metadata": {},
   "source": [
    "# Linear Solves"
   ]
  },
  {
   "cell_type": "markdown",
   "id": "59597869",
   "metadata": {},
   "source": [
    "CoLA has two main ways for doing linear solves. The first is to use the high-level API found [here](https://cola.readthedocs.io/en/latest/package/cola.linalg.html). The second one is to access one of the series of algorithms provided in CoLA found [here](https://cola.readthedocs.io/en/latest/package/cola.algorithms.html).\n",
    "\n",
    "Let's start with an example of the high-level API. Below I create a random linear problem of size $N=100$."
   ]
  },
  {
   "cell_type": "code",
   "execution_count": 1,
   "id": "ecdcc253",
   "metadata": {},
   "outputs": [
    {
     "name": "stderr",
     "output_type": "stream",
     "text": [
      "WARNING:jax._src.xla_bridge:No GPU/TPU found, falling back to CPU. (Set TF_CPP_MIN_LOG_LEVEL=0 and rerun for more info.)\n"
     ]
    }
   ],
   "source": [
    "from jax import numpy as jnp\n",
    "from jax.random import PRNGKey, normal, split\n",
    "import cola\n",
    "\n",
    "N = 100\n",
    "key = PRNGKey(seed=21)\n",
    "A = normal(key, shape=(N, N))\n",
    "key = split(key, num=1)\n",
    "rhs = normal(key, shape=(N,))\n",
    "rhs /= jnp.linalg.norm(rhs)"
   ]
  },
  {
   "cell_type": "markdown",
   "id": "78252c17",
   "metadata": {},
   "source": [
    "To solve the linear system we use `cola.inverse` as follows."
   ]
  },
  {
   "cell_type": "code",
   "execution_count": 2,
   "id": "e85eae93",
   "metadata": {},
   "outputs": [
    {
     "name": "stdout",
     "output_type": "stream",
     "text": [
      "6.47e-06\n"
     ]
    }
   ],
   "source": [
    "soln = cola.inverse(cola.ops.Dense(A)) @ rhs\n",
    "soln_jax = jnp.linalg.solve(A, rhs)\n",
    "abs_diff = jnp.linalg.norm(soln - soln_jax)\n",
    "print(f\"{abs_diff:1.2e}\")"
   ]
  },
  {
   "cell_type": "markdown",
   "id": "f38824b8",
   "metadata": {},
   "source": [
    "Now to specify an algorithm we do the following."
   ]
  },
  {
   "cell_type": "code",
   "execution_count": 3,
   "id": "b3d58c1e",
   "metadata": {},
   "outputs": [],
   "source": [
    "from jax.config import config\n",
    "config.update(\"jax_enable_x64\", True)\n",
    "\n",
    "N = 1_000\n",
    "key = PRNGKey(seed=21)\n",
    "dtype = jnp.float64\n",
    "A = cola.ops.Dense(normal(key, shape=(N, N)))\n",
    "mu = 1.e-1  # a large enough value ensures PSD\n",
    "S = A @ A.T + mu * cola.ops.I_like(A)\n",
    "rhs = normal(key, shape=(N,))\n",
    "rhs /= jnp.linalg.norm(rhs)"
   ]
  },
  {
   "cell_type": "code",
   "execution_count": null,
   "id": "edf2565a",
   "metadata": {},
   "outputs": [],
   "source": [
    "soln = cola.algorithms.cg(cola.ops.Dense(A), rhs)\n",
    "soln_jax = jnp.linalg.solve(S.to_dense(), rhs)\n",
    "abs_diff = jnp.linalg.norm(soln - soln_jax)\n",
    "print(f\"{abs_diff:1.2e}\")"
   ]
  }
 ],
 "metadata": {
  "accelerator": "GPU",
  "kernelspec": {
   "display_name": "Python 3",
   "language": "python",
   "name": "python3"
  },
  "language_info": {
   "codemirror_mode": {
    "name": "ipython",
    "version": 3
   },
   "file_extension": ".py",
   "mimetype": "text/x-python",
   "name": "python",
   "nbconvert_exporter": "python",
   "pygments_lexer": "ipython3",
   "version": "3.8.5"
  }
 },
 "nbformat": 4,
 "nbformat_minor": 4
}

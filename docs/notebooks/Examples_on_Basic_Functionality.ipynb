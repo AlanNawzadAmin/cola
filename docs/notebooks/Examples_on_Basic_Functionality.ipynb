{
 "cells": [
  {
   "cell_type": "markdown",
   "id": "e3653c03",
   "metadata": {},
   "source": [
    "# Examples on Basic Functionality\n",
    "\n",
    "The goal of this section is to show useful examples of basic functionality such as: linear solves, eigendecomposition, SVD, trace estimation, etc."
   ]
  },
  {
   "cell_type": "code",
   "execution_count": null,
   "id": "3c585c4f",
   "metadata": {},
   "outputs": [],
   "source": []
  }
 ],
 "metadata": {
  "kernelspec": {
   "display_name": "Python 3 (ipykernel)",
   "language": "python",
   "name": "python3"
  },
  "language_info": {
   "codemirror_mode": {
    "name": "ipython",
    "version": 3
   },
   "file_extension": ".py",
   "mimetype": "text/x-python",
   "name": "python",
   "nbconvert_exporter": "python",
   "pygments_lexer": "ipython3",
   "version": "3.11.4"
  }
 },
 "nbformat": 4,
 "nbformat_minor": 5
}

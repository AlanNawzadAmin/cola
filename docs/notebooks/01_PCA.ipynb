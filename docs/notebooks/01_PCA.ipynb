{
 "cells": [
  {
   "cell_type": "markdown",
   "id": "3ea9b954",
   "metadata": {},
   "source": [
    "# PCA"
   ]
  },
  {
   "cell_type": "code",
   "execution_count": 9,
   "id": "fee5fa3a",
   "metadata": {},
   "outputs": [
    {
     "name": "stdout",
     "output_type": "stream",
     "text": [
      "Dataset (N=100 | D=10)\n"
     ]
    }
   ],
   "source": [
    "import time\n",
    "import jax.config\n",
    "import linops.jax_fns as xnp\n",
    "from linops.linear_algebra import lazify\n",
    "from linops.algorithms.svd import get_randomized_svd\n",
    "\n",
    "jax.config.update(\"jax_enable_x64\", True)\n",
    "dtype = xnp.float64\n",
    "N, D = 100, 10\n",
    "train_x = xnp.randn(N, D)\n",
    "print(f\"Dataset (N={train_x.shape[0]:,d} | D={train_x.shape[1]:,d})\")\n",
    "k = 50\n",
    "X = xnp.array(train_x[:N], dtype=dtype)\n",
    "XTX = lazify(X.T / X.shape[0]) @ lazify(X)\n",
    "eigs, *_ = get_randomized_svd(XTX, rank=5)"
   ]
  },
  {
   "cell_type": "markdown",
   "id": "5d43e8c2",
   "metadata": {},
   "source": [
    "$X X^{T}$"
   ]
  }
 ],
 "metadata": {
  "kernelspec": {
   "display_name": "Python 3 (ipykernel)",
   "language": "python",
   "name": "python3"
  },
  "language_info": {
   "codemirror_mode": {
    "name": "ipython",
    "version": 3
   },
   "file_extension": ".py",
   "mimetype": "text/x-python",
   "name": "python",
   "nbconvert_exporter": "python",
   "pygments_lexer": "ipython3",
   "version": "3.11.4"
  }
 },
 "nbformat": 4,
 "nbformat_minor": 5
}

{
 "cells": [
  {
   "attachments": {},
   "cell_type": "markdown",
   "id": "87940e76",
   "metadata": {},
   "source": [
    "# Diagonalizing a Hamiltonian (PDE eigenvalue problems)"
   ]
  },
  {
   "attachments": {},
   "cell_type": "markdown",
   "id": "8da43b3d",
   "metadata": {},
   "source": [
    "## Solving the Schrodinger Equation for a 2d Harmonic oscillator"
   ]
  },
  {
   "attachments": {},
   "cell_type": "markdown",
   "id": "8080c079",
   "metadata": {},
   "source": [
    "In this example, we will show how to use the CoLA library to solve for the eigenvalues and eigenfunctions of the Hamiltonian operator for a two-dimensional quantum harmonic oscillator. The Hamiltonian operator is defined as\n",
    "\n",
    "H = -Δ/2 + V(x)\n",
    "\n",
    "where Δ is the Laplacian operator and V(x) is the potential energy function. We will be using a discretized Laplacian on a square grid and a simple harmonic potential V(x) = x²/2.\n",
    "\n",
    "To start, let's create a 1000 x 1000 point coordinate mesh:"
   ]
  },
  {
   "cell_type": "code",
   "execution_count": 1,
   "id": "001cbe0d",
   "metadata": {},
   "outputs": [],
   "source": [
    "import numpy as np\n",
    "import jax.numpy as jnp\n",
    "from jax import vmap, jit\n",
    "import jax\n",
    "import cola\n",
    "from jax.config import config; config.update(\"jax_enable_x64\", False)\n",
    "#jax.config.update('jax_platform_name', 'cpu')\n",
    "\n",
    "N = 300\n",
    "ndims = 2\n",
    "grid = jnp.linspace(-30,30,N)\n",
    "dx = grid[1]-grid[0]\n",
    "xyz = jnp.stack(jnp.meshgrid(*(ndims * [grid])), axis=-1).reshape(-1, ndims)"
   ]
  },
  {
   "attachments": {},
   "cell_type": "markdown",
   "id": "93087dcb",
   "metadata": {},
   "source": [
    "Here, N is the number of points in each dimension, ndims is the number of dimensions, and grid represents the grid points from -30 to 30. dx represents the grid spacing, and xyz is an array of 2D points representing the coordinates of each point in the grid.\n",
    "\n",
    "Next, we define the Laplacian operator. We use the same finite difference stencil as in the previous example to discretize the Laplacian."
   ]
  },
  {
   "cell_type": "code",
   "execution_count": 2,
   "id": "53d9854c",
   "metadata": {},
   "outputs": [],
   "source": [
    "def laplacian(x):\n",
    "    x = x.reshape(ndims*(N,)) # unflatten to an ndims-dimensional grid\n",
    "    cderiv = lambda x: jax.scipy.signal.correlate(x,jnp.array([1.,-2,1.])/dx**2,mode='same')\n",
    "    return sum([jnp.apply_along_axis(cderiv,i,x) for i in range(ndims)]).reshape(-1)\n",
    "\n",
    "L = cola.ops.LinearOperator(jnp.float32, shape=(N**ndims, N**ndims), matmat=jit(vmap(laplacian, -1, -1)))"
   ]
  },
  {
   "attachments": {},
   "cell_type": "markdown",
   "id": "f8ab1e45",
   "metadata": {},
   "source": [
    "The function laplacian calculates the second derivative along each dimension and sums them up. The result is reshaped to a 1D array and returned.\n",
    "\n",
    "Next, we define the potential function V(x) as a diagonal operator:"
   ]
  },
  {
   "cell_type": "code",
   "execution_count": 3,
   "id": "e9e56f7c",
   "metadata": {},
   "outputs": [],
   "source": [
    "def vfn(x):\n",
    "    return (x * x).sum() / 2\n",
    "\n",
    "V = cola.diag(vmap(vfn)(xyz).reshape(-1))"
   ]
  },
  {
   "attachments": {},
   "cell_type": "markdown",
   "id": "6765c7f9",
   "metadata": {},
   "source": [
    "vfn calculates the potential energy for a given point in the grid. cola.diag creates a diagonal operator with the calculated potential energy values on the diagonal. vmap is a function from the JAX library that applies the function vfn to each point in xyz.\n",
    "\n",
    "Next, we define the Hamiltonian operator and compute its eigenvalues and eigenvectors:"
   ]
  },
  {
   "cell_type": "code",
   "execution_count": 4,
   "id": "2b696c83",
   "metadata": {},
   "outputs": [
    {
     "data": {
      "application/vnd.jupyter.widget-view+json": {
       "model_id": "c6c562fbfba54459a3920ecb24933291",
       "version_major": 2,
       "version_minor": 0
      },
      "text/plain": [
       "Running body_fun:   0%|          | 0/100 [00:00<?,?it/s]"
      ]
     },
     "metadata": {},
     "output_type": "display_data"
    },
    {
     "name": "stderr",
     "output_type": "stream",
     "text": [
      "/home/marc_f/cola/cola/jax_fns.py:248: UserWarning: Explicitly requested dtype <class 'jax.numpy.int64'> requested in array is not available, and will be truncated to dtype int32. To enable more dtypes, set the jax_enable_x64 configuration option or the JAX_ENABLE_X64 shell environment variable. See https://github.com/google/jax#current-gotchas for more.\n",
      "  return jnp.array(arr, dtype=dtype)\n"
     ]
    }
   ],
   "source": [
    "H = -L / 2 + V\n",
    "energy_levels, eigenfunctions = cola.eig(cola.SelfAdjoint(H),max_iters=500, tol=1e-4, method='iterative', pbar=True)\n",
    "eigenfunctions = eigenfunctions.to_dense()"
   ]
  },
  {
   "attachments": {},
   "cell_type": "markdown",
   "id": "58ee1c48",
   "metadata": {},
   "source": [
    "The Hamiltonian operator H is defined as the sum of the kinetic energy operator (-Δ/2) and the potential energy operator (V). The cola.SelfAdjoint function is used to inform CoLA that H is a symmetric operator which makes the eigenvalue calculation more efficient.\n",
    "\n",
    "We then plot the lowest several eigenvalues:"
   ]
  },
  {
   "cell_type": "code",
   "execution_count": 5,
   "id": "c642575b",
   "metadata": {},
   "outputs": [
    {
     "data": {
      "image/png": "[encoded data removed]",
      "text/plain": [
       "<Figure size 500x300 with 1 Axes>"
      ]
     },
     "metadata": {},
     "output_type": "display_data"
    }
   ],
   "source": [
    "nm = np.stack(np.meshgrid(np.arange(10),np.arange(10)), axis=-1).reshape(-1, 2)\n",
    "Enm = 1+nm[:,0]+nm[:,1]\n",
    "nm = nm[Enm.argsort()]\n",
    "Enm = np.sort(Enm)\n",
    "\n",
    "import matplotlib.pyplot as plt\n",
    "fig, axs = plt.subplots(1, figsize=(5, 3))\n",
    "axs.plot(energy_levels[:25], 'o',alpha=0.5, label=\"Numerical\")\n",
    "axs.plot(Enm[:25], 'o', color='k',alpha=0.5, label=\"Analytical\")\n",
    "plt.legend()\n",
    "plt.xlabel(\"index\")\n",
    "plt.ylabel(\"Energy Level\")\n",
    "plt.show()"
   ]
  },
  {
   "attachments": {},
   "cell_type": "markdown",
   "id": "696d5a6a",
   "metadata": {},
   "source": [
    "Each point represents an eigenvalue, which corresponds to an energy level of the quantum harmonic oscillator. Up to errors produced by the finite boundary (at [-30,30]) and discretization, we see the familiar $E_{nm} = (1/2+n)+(1/2+m)$ energy levels for the 2d oscillator.\n",
    "\n",
    "Lastly, we visualize the corresponding eigenfunctions:"
   ]
  },
  {
   "cell_type": "code",
   "execution_count": 6,
   "id": "0c74eeef",
   "metadata": {},
   "outputs": [
    {
     "data": {
      "image/png": "[encoded data removed]",
      "text/plain": [
       "<Figure size 800x400 with 8 Axes>"
      ]
     },
     "metadata": {},
     "output_type": "display_data"
    }
   ],
   "source": [
    "import numpy as np\n",
    "\n",
    "fig, axs = plt.subplots(2, 4, figsize=(8, 4))\n",
    "for i,ax in enumerate(axs.flatten()):\n",
    "    l = 30\n",
    "    ax.imshow(eigenfunctions[:, i].reshape(N,N)[N//2-l:N//2+l,N//2-l:N//2+l],\n",
    "    extent=[grid[N//2-l],grid[N//2+l],grid[N//2+l],grid[N//2-l]],\n",
    "    cmap='RdBu_r', vmin=-0.1, vmax=0.1)\n",
    "    ax.set_title(r\"$E_{{{}}} ={:.3f}$\".format(\"n,m\",energy_levels[i]))\n",
    "    ax.axis('off')"
   ]
  },
  {
   "attachments": {},
   "cell_type": "markdown",
   "id": "7a2c2e7f",
   "metadata": {},
   "source": [
    "Each subplot represents an eigenfunction, reshaped to 2D and displayed as an image. The eigenfunctions correspond to the wave functions of the quantum harmonic oscillator at different energy levels. The color represents the value of the wave function at each point in the grid. The title of each subplot shows the corresponding eigenvalue, or energy level.\n",
    "\n",
    "Through this example, we have shown how to solve for the energy levels and wave functions of a quantum harmonic oscillator using the CoLA library."
   ]
  },
  {
   "attachments": {},
   "cell_type": "markdown",
   "id": "c0195343",
   "metadata": {},
   "source": [
    "## Solving the Schrodinger Eq for the Hydrogen atom in 3d, diagonalizing non hermitian Hamiltonians via compactifying transform"
   ]
  },
  {
   "cell_type": "code",
   "execution_count": null,
   "id": "e3e24c4a",
   "metadata": {},
   "outputs": [
    {
     "name": "stderr",
     "output_type": "stream",
     "text": [
      "/data/users/marc_f/cola/cola/ops.py:78: UserWarning: Explicitly requested dtype <class 'jax.numpy.float64'> requested in eye is not available, and will be truncated to dtype float32. To enable more dtypes, set the jax_enable_x64 configuration option or the JAX_ENABLE_X64 shell environment variable. See https://github.com/google/jax#current-gotchas for more.\n",
      "  return self @ self.xnp.eye(self.shape[-1], dtype=self.dtype)\n"
     ]
    },
    {
     "name": "stdout",
     "output_type": "stream",
     "text": [
      "[ 41.57455   41.575943  41.576588  41.577152  41.5774    41.57964\n",
      "  41.582     41.584194 152.37383  152.37447 ]\n"
     ]
    }
   ],
   "source": [
    "# e3 = jnp.linalg.eigvalsh(H.to_dense())\n",
    "# print(np.sort(e3)[:10])"
   ]
  },
  {
   "cell_type": "code",
   "execution_count": 1,
   "id": "7e9d2228",
   "metadata": {},
   "outputs": [
    {
     "name": "stdout",
     "output_type": "stream",
     "text": [
      "float64\n",
      "[-636.61924877 -636.61924877] [636.61924877 636.61924877]\n"
     ]
    },
    {
     "data": {
      "application/vnd.jupyter.widget-view+json": {
       "model_id": "0481d6ee879c472ebaaf2f9add78faba",
       "version_major": 2,
       "version_minor": 0
      },
      "text/plain": [
       "Running body_fun:   0%|          | 0/100 [00:00<?,?it/s]"
      ]
     },
     "metadata": {},
     "output_type": "display_data"
    }
   ],
   "source": [
    "import os\n",
    "import time\n",
    "import numpy as np\n",
    "import jax.numpy as jnp\n",
    "from jax import vmap, jit\n",
    "import jax\n",
    "from jax import jacfwd\n",
    "from jax.config import config\n",
    "import cola\n",
    "from jax.config import config; config.update(\"jax_enable_x64\", True)\n",
    "#jax.config.update('jax_platform_name', 'cpu')\n",
    "\n",
    "def square_compactification(x):\n",
    "    return jnp.arctan(x) * 2 / jnp.pi\n",
    "\n",
    "\n",
    "def inv_square_compactification(y):\n",
    "    return jnp.tan(y * jnp.pi / 2)\n",
    "\n",
    "\n",
    "# define the hydrogen atom Hamiltonian transformed coordinates\n",
    "N = 100\n",
    "ndims = 2\n",
    "\n",
    "grid = jnp.linspace(-1 + .001, 1 - .001, N)  # convert to 3d with meshgrid\n",
    "\n",
    "# grid = jnp.linspace(-1,1,N)\n",
    "# grid = jnp.linspace(-40,40,N)\n",
    "print(grid.dtype)\n",
    "wgrid = jnp.stack(jnp.meshgrid(*(ndims * [grid])), axis=-1).reshape(-1, ndims)\n",
    "idd = lambda x: x\n",
    "\n",
    "T = square_compactification  #idd#lambda x: jax.scipy.stats.norm.cdf(norm(x)/3)*x/norm(x)#jnp.log(1e-1+norm(x))*x/norm(x)#radial_hyperbolic_compactification\n",
    "Tinv = inv_square_compactification  #idd#lambda x: 3*jax.scipy.special.ndtri(norm(x))*x/norm(x)#(jnp.exp(norm(x))-1e-1)*x/norm(x)#inv_radial_hyperbolic_compactification\n",
    "xyz = vmap(Tinv)(wgrid)\n",
    "print(xyz[0], xyz[-1])\n",
    "DT = vmap(jacfwd(T))(xyz)  # (b, 3-out, 3-in)\n",
    "laplacian_factor2 = DT @ DT.transpose((0, 2, 1))\n",
    "laplacian_factor1 = vmap(lambda z: (jacfwd(jacfwd(T))(z) * jnp.eye(ndims)[None, :, :]).sum((1, 2)))(\n",
    "    xyz)\n",
    "dw = grid[1] - grid[0]\n",
    "deriv = jnp.array([-1 / 2, 0., 1 / 2]) / dw\n",
    "\n",
    "\n",
    "# deriv = jnp.array([-1.,1.])/dw\n",
    "# di = lambda x,i: sp.ndimage.correlate1d(x,deriv,axis=i,mode='constant')\n",
    "def hdiag(x):\n",
    "    cderiv = lambda x: jax.scipy.signal.correlate(x, jnp.array([1., -2, 1.]) / dw**2, mode='same')\n",
    "    dds = jnp.stack([jnp.apply_along_axis(cderiv, i, x).reshape(-1) for i in range(ndims)], axis=0)\n",
    "    embedded_diag = vmap(jnp.diag, -1, -1)(dds).transpose((2, 0, 1))\n",
    "    return embedded_diag\n",
    "\n",
    "\n",
    "jderiv = lambda x: jax.scipy.signal.correlate(x, deriv, mode='same')  # BCS?\n",
    "di = lambda x, i: jnp.apply_along_axis(jderiv, i, x)\n",
    "d = lambda x, axis=-1: jnp.stack([di(x, i) for i in range(ndims)], axis=axis)\n",
    "\n",
    "\n",
    "# lap= lambda x: scipy.ndimage.laplace(x,mode='constant')/dw**2\n",
    "def lap(x):\n",
    "    cderiv = lambda x: jax.scipy.signal.correlate(x, jnp.array([1., -2, 1.]) / dw**2, mode='same')\n",
    "    return sum([jnp.apply_along_axis(cderiv, i, x).reshape(-1) for i in range(ndims)])\n",
    "\n",
    "\n",
    "def vfn(x):\n",
    "    return (x * x).sum() / 2\n",
    "\n",
    "\n",
    "@jit\n",
    "def laplacian(psi):\n",
    "    psi_grid = psi.reshape(*(ndims * (N, )))\n",
    "    #     return lap(psi_grid).reshape(psi.shape)\n",
    "    # return out\n",
    "\n",
    "    # return (hessian*jnp.eye(ndims)[None]).sum((1,2)).reshape(psi.shape)\n",
    "    dpsi = d(psi_grid)\n",
    "    hessian = d(dpsi).reshape(-1, ndims, ndims)\n",
    "    hessian = jnp.where(jnp.eye(ndims)[None] + 0 * hessian > 0.5, hdiag(psi_grid), hessian)\n",
    "    l1 = (dpsi.reshape(-1, ndims) * laplacian_factor1).sum(-1)\n",
    "    l2 = (hessian * laplacian_factor2).sum((1, 2))\n",
    "    return (l1 + l2).reshape(psi.shape)\n",
    "\n",
    "\n",
    "L = cola.ops.LinearOperator(jnp.float64, shape=(N**ndims, N**ndims),     matmat=jit(vmap(laplacian, -1, -1)))\n",
    "v = vmap(vfn)(xyz).reshape(-1)\n",
    "V = cola.diag(v)\n",
    "H = -L / 2 + V\n",
    "\n",
    "\n",
    "e2, v2 = cola.eig(H, method='iterative', max_iters=1000, pbar=True)"
   ]
  },
  {
   "cell_type": "code",
   "execution_count": null,
   "id": "1aed271b",
   "metadata": {},
   "outputs": [
    {
     "data": {
      "text/plain": [
       "Array([1.02420471e-09, 1.35671930e+00, 2.72072743e+00, 3.17830192e+00,\n",
       "       3.86589850e+00, 4.28089835e+00, 4.89605913e+00, 5.03809506e+00,\n",
       "       5.51907279e+00, 6.29295117e+00, 6.29295117e+00, 7.24972949e+00,\n",
       "       7.36801518e+00, 8.08539843e+00, 8.64521094e+00, 9.64414748e+00,\n",
       "       9.64414748e+00, 1.06404372e+01, 1.06404372e+01, 1.24171077e+01,\n",
       "       1.24171077e+01, 1.44055015e+01, 1.44055015e+01, 1.50948738e+01,\n",
       "       1.71728696e+01, 1.71728696e+01, 1.86532230e+01, 2.01579422e+01,\n",
       "       2.10492274e+01, 2.31398478e+01, 2.31398478e+01, 2.35478337e+01,\n",
       "       2.58496670e+01, 2.79931296e+01, 2.79931296e+01, 2.99179325e+01,\n",
       "       3.18186798e+01, 3.31780908e+01, 3.46924265e+01, 3.68915460e+01,\n",
       "       3.87729764e+01, 3.87729764e+01, 4.11948347e+01, 4.27982003e+01,\n",
       "       4.51657849e+01, 4.73643981e+01, 4.87871346e+01, 5.16174192e+01,\n",
       "       5.16174192e+01, 5.49697078e+01, 5.78318760e+01, 5.82950747e+01,\n",
       "       6.17755701e+01, 6.29052123e+01, 6.53778651e+01, 6.75183035e+01,\n",
       "       6.99756599e+01, 7.27489139e+01, 7.52499753e+01, 7.76596425e+01,\n",
       "       8.11846987e+01, 8.21383655e+01, 8.56546202e+01, 8.80385076e+01,\n",
       "       9.11995752e+01, 9.30518276e+01, 9.58048771e+01, 9.83968472e+01,\n",
       "       1.01090767e+02, 1.04440314e+02, 1.06383456e+02, 1.10093991e+02,\n",
       "       1.12463143e+02, 1.16573629e+02, 1.19117406e+02, 1.22407791e+02,\n",
       "       1.24959934e+02, 1.28903428e+02, 1.32034444e+02, 1.35485663e+02,\n",
       "       1.39831403e+02, 1.41667916e+02, 1.44149459e+02, 1.48541093e+02,\n",
       "       1.52055869e+02, 1.55332252e+02, 1.58640918e+02, 1.63200032e+02,\n",
       "       1.65468278e+02, 1.69650322e+02, 1.73078953e+02, 1.77654253e+02,\n",
       "       1.81119781e+02, 1.84763093e+02, 1.89055754e+02, 1.91697885e+02,\n",
       "       1.96080364e+02, 2.00482629e+02, 2.03418411e+02, 2.08362796e+02,\n",
       "       2.13574778e+02, 2.17091420e+02, 2.21129734e+02, 2.24495698e+02,\n",
       "       2.29298723e+02, 2.32503560e+02, 2.37679377e+02, 2.41728967e+02,\n",
       "       2.46954319e+02, 2.51001869e+02, 2.53698027e+02, 2.59813848e+02,\n",
       "       2.64739897e+02, 2.68556758e+02, 2.73281947e+02, 2.77881700e+02,\n",
       "       2.82127104e+02, 2.86331238e+02, 2.90957479e+02, 2.95779074e+02,\n",
       "       3.00280070e+02, 3.06756535e+02, 3.11422281e+02, 3.14655818e+02,\n",
       "       3.20178228e+02, 3.24888577e+02, 3.30042895e+02, 3.36137859e+02,\n",
       "       3.39915152e+02, 3.45589511e+02, 3.51539186e+02, 3.55696331e+02,\n",
       "       3.61258466e+02, 3.66580467e+02, 3.71356106e+02, 3.77792864e+02,\n",
       "       3.82878322e+02, 3.88227779e+02, 3.94592531e+02, 3.96921149e+02,\n",
       "       4.03940547e+02, 4.10660925e+02, 4.15685246e+02, 4.21409184e+02,\n",
       "       4.25847135e+02, 4.31702912e+02, 4.36969566e+02, 4.43254157e+02,\n",
       "       4.48943911e+02, 4.54949064e+02, 4.60821570e+02, 4.65961910e+02,\n",
       "       4.71752117e+02, 4.77041719e+02, 4.82266589e+02, 4.88865619e+02,\n",
       "       4.95588797e+02, 5.00613431e+02, 5.08372546e+02, 5.12855716e+02,\n",
       "       5.19370566e+02, 5.24993220e+02, 5.31284613e+02, 5.37170811e+02,\n",
       "       5.44410005e+02, 5.49890675e+02, 5.56428102e+02, 5.63026931e+02,\n",
       "       5.67946463e+02, 5.74840357e+02, 5.80666947e+02, 5.88578788e+02,\n",
       "       5.93457342e+02, 6.00297961e+02, 6.07546507e+02, 6.15098094e+02,\n",
       "       6.19949977e+02, 6.26521505e+02, 6.32000312e+02, 6.39173472e+02,\n",
       "       6.46365671e+02, 6.52903288e+02, 6.58897516e+02, 6.65185968e+02,\n",
       "       6.72789963e+02, 6.79525933e+02, 6.87001682e+02, 6.93891597e+02,\n",
       "       7.00740812e+02, 7.07605930e+02, 7.14235050e+02, 7.20008235e+02,\n",
       "       7.27680387e+02, 7.33654652e+02, 7.39842211e+02, 7.49339174e+02,\n",
       "       7.56014759e+02, 7.62348877e+02, 7.68216463e+02, 7.77412881e+02,\n",
       "       7.82832615e+02, 7.89708605e+02, 7.97660451e+02, 8.05485125e+02,\n",
       "       8.12082666e+02, 8.18970460e+02, 8.26530634e+02, 8.34192180e+02,\n",
       "       8.40489979e+02, 8.47472717e+02, 8.56563824e+02, 8.63665500e+02,\n",
       "       8.68740054e+02, 8.76445511e+02, 8.83869752e+02, 8.92349655e+02,\n",
       "       8.98984264e+02, 9.07649219e+02, 9.14301635e+02, 9.22659678e+02,\n",
       "       9.30456619e+02, 9.36714046e+02, 9.44209682e+02, 9.52249311e+02,\n",
       "       9.59035527e+02, 9.66978819e+02, 9.74073086e+02, 9.83087433e+02,\n",
       "       9.89645962e+02, 9.95687954e+02, 1.00483728e+03, 1.01274444e+03,\n",
       "       1.02094459e+03, 1.02875986e+03, 1.03614847e+03, 1.04269608e+03,\n",
       "       1.05120316e+03, 1.05918879e+03, 1.06706450e+03, 1.07466998e+03,\n",
       "       1.08335592e+03, 1.09063959e+03, 1.09761116e+03, 1.10625143e+03,\n",
       "       1.11494831e+03, 1.12218145e+03, 1.12949275e+03, 1.13730026e+03,\n",
       "       1.14486725e+03, 1.15305850e+03, 1.16050532e+03, 1.16864849e+03,\n",
       "       1.17706789e+03, 1.18523924e+03, 1.19276042e+03, 1.20081603e+03,\n",
       "       1.20898157e+03, 1.21602391e+03, 1.22498653e+03, 1.23267060e+03,\n",
       "       1.24032610e+03, 1.24893541e+03, 1.25632294e+03, 1.26422245e+03,\n",
       "       1.27251444e+03, 1.28103244e+03, 1.29041807e+03, 1.29812499e+03,\n",
       "       1.30516548e+03, 1.31348669e+03, 1.32221413e+03, 1.32968928e+03,\n",
       "       1.33756670e+03, 1.34596741e+03, 1.35372192e+03, 1.36371212e+03,\n",
       "       1.37042235e+03, 1.37847611e+03, 1.38729074e+03, 1.39493929e+03,\n",
       "       1.40379591e+03, 1.41078544e+03, 1.41957109e+03, 1.42670926e+03,\n",
       "       1.43568672e+03, 1.44347130e+03, 1.45040742e+03, 1.46058184e+03,\n",
       "       1.46964964e+03, 1.47698575e+03, 1.48548628e+03, 1.49393448e+03,\n",
       "       1.50106275e+03, 1.51021479e+03, 1.51768259e+03, 1.52623764e+03,\n",
       "       1.53400982e+03, 1.54116827e+03, 1.55109102e+03, 1.55930990e+03,\n",
       "       1.56704909e+03, 1.57486228e+03, 1.58281496e+03, 1.59189101e+03,\n",
       "       1.60069683e+03, 1.60748703e+03, 1.61718474e+03, 1.62342489e+03,\n",
       "       1.63286613e+03, 1.64082884e+03, 1.64798151e+03, 1.65719526e+03,\n",
       "       1.66526316e+03, 1.67341831e+03, 1.68193804e+03, 1.68988825e+03,\n",
       "       1.69821089e+03, 1.70668435e+03, 1.71463928e+03, 1.72293493e+03,\n",
       "       1.72999312e+03, 1.73817316e+03, 1.74819922e+03, 1.75568645e+03,\n",
       "       1.76235410e+03, 1.77214368e+03, 1.77885904e+03, 1.78810941e+03,\n",
       "       1.79635453e+03, 1.80437104e+03, 1.81209136e+03, 1.82048775e+03,\n",
       "       1.82974997e+03, 1.83535871e+03, 1.84482165e+03, 1.85258021e+03,\n",
       "       1.86010416e+03, 1.86910260e+03, 1.87693164e+03, 1.88418568e+03,\n",
       "       1.89329496e+03, 1.90030961e+03, 1.90724452e+03, 1.91673588e+03,\n",
       "       1.92452020e+03, 1.93163689e+03, 1.93945505e+03, 1.94882668e+03,\n",
       "       1.95686136e+03, 1.96308291e+03, 1.97189594e+03, 1.97961977e+03,\n",
       "       1.98906177e+03, 1.99484575e+03, 2.00463469e+03, 2.01188260e+03,\n",
       "       2.01997427e+03, 2.02576580e+03, 2.03409184e+03, 2.04197163e+03,\n",
       "       2.05177527e+03, 2.05753459e+03, 2.06584378e+03, 2.07209390e+03,\n",
       "       2.08250832e+03, 2.08935185e+03, 2.09709998e+03, 2.10350751e+03,\n",
       "       2.11097885e+03, 2.11912672e+03, 2.12808845e+03, 2.13631012e+03,\n",
       "       2.14227553e+03, 2.15004215e+03, 2.15951818e+03, 2.16531664e+03,\n",
       "       2.17154998e+03, 2.18235628e+03, 2.18890641e+03, 2.19527555e+03,\n",
       "       2.20183717e+03, 2.20815526e+03, 2.21653541e+03, 2.22294618e+03,\n",
       "       2.23388538e+03, 2.24279407e+03, 2.24741294e+03, 2.25737650e+03,\n",
       "       2.26318768e+03, 2.27048959e+03, 2.27706305e+03, 2.28282601e+03,\n",
       "       2.29077400e+03, 2.29842244e+03, 2.30608207e+03, 2.31622979e+03,\n",
       "       2.32089469e+03, 2.32741383e+03, 2.33364372e+03, 2.34195079e+03,\n",
       "       2.34925466e+03, 2.35487695e+03, 2.36178627e+03, 2.37035699e+03,\n",
       "       2.37578153e+03, 2.38228195e+03, 2.38794561e+03, 2.39431946e+03,\n",
       "       2.40326859e+03, 2.41027804e+03, 2.41332074e+03, 2.42375222e+03,\n",
       "       2.42660544e+03, 2.43538233e+03, 2.44460058e+03, 2.45103657e+03,\n",
       "       2.45683367e+03, 2.46229804e+03, 2.46716938e+03, 2.47200830e+03,\n",
       "       2.47592704e+03, 2.49085724e+03, 2.49196388e+03, 2.50444050e+03,\n",
       "       2.50754565e+03, 2.51124537e+03, 2.52115134e+03, 2.52849336e+03,\n",
       "       2.53456601e+03, 2.54261229e+03, 2.54987016e+03, 2.55163829e+03,\n",
       "       2.55832960e+03, 2.56576662e+03, 2.56789917e+03, 2.57960363e+03,\n",
       "       2.58361756e+03, 2.58833088e+03, 2.59509258e+03, 2.59619097e+03,\n",
       "       2.60521045e+03, 2.60840586e+03, 2.61442358e+03, 2.62576298e+03,\n",
       "       2.62775875e+03, 2.63103483e+03, 2.64000971e+03, 2.64159410e+03,\n",
       "       2.64987382e+03, 2.65191533e+03, 2.65635492e+03, 2.66415351e+03,\n",
       "       2.66831850e+03, 2.67465000e+03, 2.67537982e+03, 2.68430267e+03,\n",
       "       2.68957237e+03, 2.69143703e+03, 2.69725474e+03, 2.70669366e+03,\n",
       "       2.71184398e+03, 2.71482941e+03, 2.72579069e+03, 2.72944000e+03,\n",
       "       2.72981231e+03, 2.73940828e+03, 2.74409684e+03, 2.74418939e+03,\n",
       "       2.75519794e+03, 2.75621699e+03, 2.75628010e+03, 2.76219594e+03,\n",
       "       2.76685193e+03, 2.76848128e+03, 2.77544042e+03, 2.77796658e+03,\n",
       "       2.77811994e+03, 2.79102487e+03, 2.79102931e+03, 2.79178394e+03,\n",
       "       2.80517046e+03, 2.81520998e+03, 2.82234519e+03, 2.82234577e+03,\n",
       "       2.82267234e+03, 2.83215020e+03, 2.84029272e+03, 2.84029340e+03,\n",
       "       2.84446312e+03, 2.85534781e+03, 2.85537547e+03, 2.86716460e+03,\n",
       "       2.86764464e+03, 2.87485354e+03, 2.87787426e+03, 2.88038812e+03,\n",
       "       2.88798140e+03, 2.88829524e+03, 2.88972895e+03, 2.89974769e+03,\n",
       "       2.89975847e+03, 2.90641965e+03, 2.90641966e+03, 2.92018915e+03,\n",
       "       2.92018915e+03, 2.93080195e+03, 2.93080195e+03, 2.93814386e+03,\n",
       "       2.93814386e+03, 2.94606972e+03, 2.94606972e+03, 2.95693530e+03,\n",
       "       2.95693530e+03, 2.95842471e+03, 2.95842478e+03, 2.97383527e+03,\n",
       "       2.97384110e+03, 2.98619817e+03, 2.98636584e+03, 2.99474863e+03,\n",
       "       2.99642317e+03, 3.00002202e+03, 3.00562650e+03, 3.00624904e+03,\n",
       "       3.01603617e+03, 3.01606296e+03, 3.02845213e+03, 3.02845213e+03,\n",
       "       3.04256674e+03, 3.04256674e+03, 3.05364463e+03, 3.05364463e+03,\n",
       "       3.06132951e+03, 3.06132951e+03, 3.06787753e+03, 3.06787753e+03,\n",
       "       3.07713754e+03, 3.07713754e+03, 3.09983059e+03, 3.09983125e+03,\n",
       "       3.11260283e+03, 3.11264423e+03, 3.12196174e+03, 3.12269880e+03,\n",
       "       3.12747073e+03, 3.13116967e+03, 3.13232079e+03, 3.14020817e+03,\n",
       "       3.14027510e+03, 3.17258118e+03, 3.17258118e+03, 3.18402567e+03,\n",
       "       3.18402567e+03, 3.19223105e+03, 3.19223105e+03, 3.19790823e+03,\n",
       "       3.19790823e+03, 3.20540794e+03, 3.20540794e+03, 3.24672046e+03,\n",
       "       3.24672598e+03, 3.25667971e+03, 3.25690908e+03, 3.26280328e+03,\n",
       "       3.26486966e+03, 3.26677832e+03, 3.27259656e+03, 3.27276049e+03,\n",
       "       3.32227750e+03, 3.32227750e+03, 3.33092852e+03, 3.33092852e+03,\n",
       "       3.33640702e+03, 3.33640702e+03, 3.34211099e+03, 3.34211099e+03,\n",
       "       3.39924539e+03, 3.39928413e+03, 3.40610302e+03, 3.40697442e+03,\n",
       "       3.40976584e+03, 3.41353949e+03, 3.41391600e+03, 3.47770478e+03,\n",
       "       3.47770478e+03, 3.48344086e+03, 3.48344086e+03, 3.48763679e+03,\n",
       "       3.48763679e+03, 3.55752015e+03, 3.55772862e+03, 3.56136751e+03,\n",
       "       3.56336844e+03, 3.56412326e+03, 3.63902330e+03, 3.63902330e+03,\n",
       "       3.64236322e+03, 3.64236322e+03, 3.72170325e+03, 3.72240280e+03,\n",
       "       3.72363020e+03, 3.80651521e+03, 3.80651521e+03, 3.89254062e+03,\n",
       "       2.02653421e+05, 2.02653421e+05, 2.02653421e+05, 2.02653421e+05,\n",
       "       2.02653421e+05, 2.02653421e+05, 2.02653421e+05, 2.02653421e+05,\n",
       "       2.02654114e+05, 2.02654114e+05, 2.02654114e+05, 2.02654114e+05,\n",
       "       2.02654114e+05, 2.02654114e+05, 2.02654114e+05, 2.02654114e+05,\n",
       "       2.02654158e+05, 2.02654158e+05, 2.02654158e+05, 2.02654158e+05,\n",
       "       2.02654158e+05, 2.02654158e+05, 2.02654158e+05, 2.02654158e+05,\n",
       "       2.02656208e+05, 2.02656208e+05, 2.02656208e+05, 2.02656208e+05,\n",
       "       2.02656208e+05, 2.02656208e+05, 2.02656208e+05, 2.02656208e+05,\n",
       "       2.02656610e+05, 2.02656610e+05, 2.02656610e+05, 2.02656610e+05,\n",
       "       2.02656610e+05, 2.02656610e+05, 2.02656610e+05, 2.02656610e+05,\n",
       "       2.02659580e+05, 2.02659580e+05, 2.02659580e+05, 2.02659580e+05,\n",
       "       2.02659580e+05, 2.02659580e+05, 2.02659580e+05, 2.02659580e+05,\n",
       "       2.02661856e+05, 2.02661856e+05, 2.02661856e+05, 2.02661856e+05,\n",
       "       2.02661856e+05, 2.02661856e+05, 2.02661856e+05, 2.02661856e+05,\n",
       "       2.02664345e+05, 2.02664345e+05, 2.02664345e+05, 2.02664345e+05,\n",
       "       2.02664345e+05, 2.02664345e+05, 2.02664345e+05, 2.02664345e+05,\n",
       "       2.02670613e+05, 2.02670613e+05, 2.02670613e+05, 2.02670613e+05,\n",
       "       2.02670613e+05, 2.02670613e+05, 2.02670613e+05, 2.02670613e+05,\n",
       "       2.02672307e+05, 2.02672307e+05, 2.02672307e+05, 2.02672307e+05,\n",
       "       2.02672307e+05, 2.02672307e+05, 2.02672307e+05, 2.02672307e+05,\n",
       "       2.02678505e+05, 2.02678505e+05, 2.02678505e+05, 2.02678505e+05,\n",
       "       2.02678505e+05, 2.02678505e+05, 2.02678505e+05, 2.02678505e+05,\n",
       "       2.02688151e+05, 2.02688151e+05, 2.02688151e+05, 2.02688151e+05,\n",
       "       2.02688151e+05, 2.02688151e+05, 2.02688151e+05, 2.02688151e+05,\n",
       "       2.02695285e+05, 2.02695285e+05, 2.02695285e+05, 2.02695285e+05,\n",
       "       2.02695285e+05, 2.02695285e+05, 2.02695285e+05, 2.02695285e+05,\n",
       "       2.02699673e+05, 2.02699673e+05, 2.02699673e+05, 2.02699673e+05,\n",
       "       2.02699673e+05, 2.02699673e+05, 2.02699673e+05, 2.02699673e+05,\n",
       "       2.02713186e+05, 2.02713186e+05, 2.02713186e+05, 2.02713186e+05,\n",
       "       2.02713186e+05, 2.02713186e+05, 2.02713186e+05, 2.02713186e+05,\n",
       "       2.02728789e+05, 2.02728789e+05, 2.02728789e+05, 2.02728789e+05,\n",
       "       2.02728789e+05, 2.02728789e+05, 2.02728789e+05, 2.02728789e+05,\n",
       "       2.02746563e+05, 2.02746563e+05, 2.02746563e+05, 2.02746563e+05,\n",
       "       2.02746563e+05, 2.02746563e+05, 2.02746563e+05, 2.02746563e+05,\n",
       "       2.02760157e+05, 2.02760157e+05, 2.02760157e+05, 2.02760157e+05,\n",
       "       2.02760157e+05, 2.02760157e+05, 2.02760157e+05, 2.02760157e+05,\n",
       "       2.02766565e+05, 2.02766565e+05, 2.02766565e+05, 2.02766565e+05,\n",
       "       2.02766565e+05, 2.02766565e+05, 2.02766565e+05, 2.02766565e+05,\n",
       "       2.02788827e+05, 2.02788827e+05, 2.02788827e+05, 2.02788827e+05,\n",
       "       2.02788827e+05, 2.02788827e+05, 2.02788827e+05, 2.02788827e+05,\n",
       "       2.02813352e+05, 2.02813352e+05, 2.02813352e+05, 2.02813352e+05,\n",
       "       2.02813352e+05, 2.02813352e+05, 2.02813352e+05, 2.02813352e+05,\n",
       "       2.02840116e+05, 2.02840116e+05, 2.02840116e+05, 2.02840116e+05,\n",
       "       2.02840116e+05, 2.02840116e+05, 2.02840116e+05, 2.02840116e+05,\n",
       "       2.02869062e+05, 2.02869062e+05, 2.02869062e+05, 2.02869062e+05,\n",
       "       2.02869062e+05, 2.02869062e+05, 2.02869062e+05, 2.02869062e+05,\n",
       "       2.02900101e+05, 2.02900101e+05, 2.02900101e+05, 2.02900101e+05,\n",
       "       2.02900101e+05, 2.02900101e+05, 2.02900101e+05, 2.02900101e+05,\n",
       "       2.02933113e+05, 2.02933113e+05, 2.02933113e+05, 2.02933113e+05,\n",
       "       2.02933113e+05, 2.02933113e+05, 2.02933113e+05, 2.02933113e+05,\n",
       "       2.02967945e+05, 2.02967945e+05, 2.02967945e+05, 2.02967945e+05,\n",
       "       2.02967945e+05, 2.02967945e+05, 2.02967945e+05, 2.02967945e+05,\n",
       "       2.03004415e+05, 2.03004415e+05, 2.03004415e+05, 2.03004415e+05,\n",
       "       2.03004415e+05, 2.03004415e+05, 2.03004415e+05, 2.03004415e+05,\n",
       "       2.03042310e+05, 2.03042310e+05, 2.03042310e+05, 2.03042310e+05,\n",
       "       2.03042310e+05, 2.03042310e+05, 2.03042310e+05, 2.03042310e+05,\n",
       "       2.03081390e+05, 2.03081390e+05, 2.03081390e+05, 2.03081390e+05,\n",
       "       2.03081390e+05, 2.03081390e+05, 2.03081390e+05, 2.03081390e+05,\n",
       "       2.03093354e+05, 2.03093354e+05, 2.03093354e+05, 2.03093354e+05,\n",
       "       2.03093354e+05, 2.03093354e+05, 2.03093354e+05, 2.03093354e+05,\n",
       "       2.03121389e+05, 2.03121389e+05, 2.03121389e+05, 2.03121389e+05,\n",
       "       2.03121389e+05, 2.03121389e+05, 2.03121389e+05, 2.03121389e+05,\n",
       "       2.03162020e+05, 2.03162020e+05, 2.03162020e+05, 2.03162020e+05,\n",
       "       2.03162020e+05, 2.03162020e+05, 2.03162020e+05, 2.03162020e+05,\n",
       "       2.03202974e+05, 2.03202974e+05, 2.03202974e+05, 2.03202974e+05,\n",
       "       2.03202974e+05, 2.03202974e+05, 2.03202974e+05, 2.03202974e+05,\n",
       "       2.03243929e+05, 2.03243929e+05, 2.03243929e+05, 2.03243929e+05,\n",
       "       2.03243929e+05, 2.03243929e+05, 2.03243929e+05, 2.03243929e+05,\n",
       "       2.03284548e+05, 2.03284548e+05, 2.03284548e+05, 2.03284548e+05,\n",
       "       2.03284548e+05, 2.03284548e+05, 2.03284548e+05, 2.03284548e+05,\n",
       "       2.03324489e+05, 2.03324489e+05, 2.03324489e+05, 2.03324489e+05,\n",
       "       2.03324489e+05, 2.03324489e+05, 2.03324489e+05, 2.03324489e+05,\n",
       "       2.03363405e+05, 2.03363405e+05, 2.03363405e+05, 2.03363405e+05,\n",
       "       2.03363405e+05, 2.03363405e+05, 2.03363405e+05, 2.03363405e+05,\n",
       "       2.03400948e+05, 2.03400948e+05, 2.03400948e+05, 2.03400948e+05,\n",
       "       2.03400948e+05, 2.03400948e+05, 2.03400948e+05, 2.03400948e+05,\n",
       "       2.03436778e+05, 2.03436778e+05, 2.03436778e+05, 2.03436778e+05,\n",
       "       2.03436778e+05, 2.03436778e+05, 2.03436778e+05, 2.03436778e+05,\n",
       "       2.03470563e+05, 2.03470563e+05, 2.03470563e+05, 2.03470563e+05,\n",
       "       2.03470563e+05, 2.03470563e+05, 2.03470563e+05, 2.03470563e+05,\n",
       "       2.03501984e+05, 2.03501984e+05, 2.03501984e+05, 2.03501984e+05,\n",
       "       2.03501984e+05, 2.03501984e+05, 2.03501984e+05, 2.03501984e+05,\n",
       "       2.03530742e+05, 2.03530742e+05, 2.03530742e+05, 2.03530742e+05,\n",
       "       2.03530742e+05, 2.03530742e+05, 2.03530742e+05, 2.03530742e+05,\n",
       "       2.03556559e+05, 2.03556559e+05, 2.03556559e+05, 2.03556559e+05,\n",
       "       2.03556559e+05, 2.03556559e+05, 2.03556559e+05, 2.03556559e+05,\n",
       "       2.03579183e+05, 2.03579183e+05, 2.03579183e+05, 2.03579183e+05,\n",
       "       2.03579183e+05, 2.03579183e+05, 2.03579183e+05, 2.03579183e+05,\n",
       "       2.03598391e+05, 2.03598391e+05, 2.03598391e+05, 2.03598391e+05,\n",
       "       2.03598391e+05, 2.03598391e+05, 2.03598391e+05, 2.03598391e+05,\n",
       "       2.03613993e+05, 2.03613993e+05, 2.03613993e+05, 2.03613993e+05,\n",
       "       2.03613993e+05, 2.03613993e+05, 2.03613993e+05, 2.03613993e+05,\n",
       "       2.03625834e+05, 2.03625834e+05, 2.03625834e+05, 2.03625834e+05,\n",
       "       2.03625834e+05, 2.03625834e+05, 2.03625834e+05, 2.03625834e+05,\n",
       "       2.03633795e+05, 2.03633795e+05, 2.03633795e+05, 2.03633795e+05,\n",
       "       2.03633795e+05, 2.03633795e+05, 2.03633795e+05, 2.03633795e+05,\n",
       "       2.03637795e+05, 2.03637795e+05, 2.03637795e+05, 2.03637795e+05,\n",
       "       2.03637795e+05, 2.03637795e+05, 2.03637795e+05, 2.03637795e+05,\n",
       "       4.05284068e+05, 4.05284068e+05, 4.05284068e+05, 4.05284068e+05],      dtype=float64)"
      ]
     },
     "execution_count": 8,
     "metadata": {},
     "output_type": "execute_result"
    }
   ],
   "source": [
    "e2.real.sort()[:10]"
   ]
  },
  {
   "cell_type": "code",
   "execution_count": 11,
   "id": "f2cab548",
   "metadata": {},
   "outputs": [
    {
     "name": "stderr",
     "output_type": "stream",
     "text": [
      "2023-09-05 16:25:12.412305: W external/xla/xla/service/hlo_rematerialization.cc:2202] Can't reduce memory use below 8.06GiB (8659795968 bytes) by rematerialization; only reduced to 9.69GiB (10400480000 bytes), down from 9.69GiB (10400480000 bytes) originally\n",
      "2023-09-05 16:25:22.617320: W external/tsl/tsl/framework/bfc_allocator.cc:485] Allocator (GPU_0_bfc) ran out of memory trying to allocate 8.94GiB (rounded to 9600001024)requested by op \n",
      "2023-09-05 16:25:22.617623: W external/tsl/tsl/framework/bfc_allocator.cc:497] *_***********************___________________________________________________________________________\n",
      "2023-09-05 16:25:22.617807: E external/xla/xla/pjrt/pjrt_stream_executor_client.cc:2593] Execution of replica 0 failed: RESOURCE_EXHAUSTED: Out of memory while trying to allocate 9600000792 bytes.\n",
      "BufferAssignment OOM Debugging.\n",
      "BufferAssignment stats:\n",
      "             parameter allocation:  762.94MiB\n",
      "              constant allocation:   468.8KiB\n",
      "        maybe_live_out allocation:  762.94MiB\n",
      "     preallocated temp allocation:    8.94GiB\n",
      "  preallocated temp fragmentation:         0B (0.00%)\n",
      "                 total allocation:   10.43GiB\n",
      "              total fragmentation:  763.40MiB (7.15%)\n",
      "Peak buffers:\n",
      "\tBuffer 1:\n",
      "\t\tSize: 2.98GiB\n",
      "\t\tOperator: op_name=\"jit(laplacian)/jit(main)/vmap(jit(laplacian))/concatenate[dimension=4]\" source_file=\"/tmp/ipykernel_185269/3213908131.py\" source_line=56\n",
      "\t\tXLA Label: fusion\n",
      "\t\tShape: f64[10000,100,100,2,2]\n",
      "\t\t==========================\n",
      "\n",
      "\tBuffer 2:\n",
      "\t\tSize: 1.49GiB\n",
      "\t\tOperator: op_name=\"jit(laplacian)/jit(main)/vmap(jit(laplacian))/conv_general_dilated[window_strides=(1,) padding=((1, 1),) lhs_dilation=(1,) rhs_dilation=(1,) dimension_numbers=ConvDimensionNumbers(lhs_spec=(0, 1, 2), rhs_spec=(0, 1, 2), out_spec=(0, 1, 2)) feature_group_count=1 batch_group_count=1 precision=None preferred_element_type=None]\" source_file=\"/tmp/ipykernel_185269/3213908131.py\" source_line=54\n",
      "\t\tXLA Label: custom-call\n",
      "\t\tShape: f64[2000000,1,100]\n",
      "\t\t==========================\n",
      "\n",
      "\tBuffer 3:\n",
      "\t\tSize: 1.49GiB\n",
      "\t\tOperator: op_name=\"jit(laplacian)/jit(main)/vmap(jit(laplacian))/conv_general_dilated[window_strides=(1,) padding=((1, 1),) lhs_dilation=(1,) rhs_dilation=(1,) dimension_numbers=ConvDimensionNumbers(lhs_spec=(0, 1, 2), rhs_spec=(0, 1, 2), out_spec=(0, 1, 2)) feature_group_count=1 batch_group_count=1 precision=None preferred_element_type=None]\" source_file=\"/tmp/ipykernel_185269/3213908131.py\" source_line=54\n",
      "\t\tXLA Label: custom-call\n",
      "\t\tShape: f64[2000000,1,100]\n",
      "\t\t==========================\n",
      "\n",
      "\tBuffer 4:\n",
      "\t\tSize: 1.49GiB\n",
      "\t\tXLA Label: fusion\n",
      "\t\tShape: f64[10000,100,100,2]\n",
      "\t\t==========================\n",
      "\n",
      "\tBuffer 5:\n",
      "\t\tSize: 1.49GiB\n",
      "\t\tOperator: op_name=\"jit(laplacian)/jit(main)/vmap(jit(laplacian))/vmap(jit(_diag))/jit(_where)/transpose[permutation=(0, 2, 1)]\" source_file=\"/tmp/ipykernel_185269/3213908131.py\" source_line=50\n",
      "\t\tXLA Label: fusion\n",
      "\t\tShape: f64[10000,10000,2]\n",
      "\t\t==========================\n",
      "\n",
      "\tBuffer 6:\n",
      "\t\tSize: 762.94MiB\n",
      "\t\tEntry Parameter Subshape: f64[10000,10000]\n",
      "\t\t==========================\n",
      "\n",
      "\tBuffer 7:\n",
      "\t\tSize: 762.94MiB\n",
      "\t\tOperator: op_name=\"jit(laplacian)/jit(main)/vmap(jit(laplacian))/add\" source_file=\"/tmp/ipykernel_185269/3213908131.py\" source_line=81\n",
      "\t\tXLA Label: fusion\n",
      "\t\tShape: f64[10000,10000]\n",
      "\t\t==========================\n",
      "\n",
      "\tBuffer 8:\n",
      "\t\tSize: 312.5KiB\n",
      "\t\tXLA Label: constant\n",
      "\t\tShape: f64[10000,2,2]\n",
      "\t\t==========================\n",
      "\n",
      "\tBuffer 9:\n",
      "\t\tSize: 156.2KiB\n",
      "\t\tXLA Label: constant\n",
      "\t\tShape: f64[10000,2]\n",
      "\t\t==========================\n",
      "\n",
      "\tBuffer 10:\n",
      "\t\tSize: 24B\n",
      "\t\tXLA Label: fusion\n",
      "\t\tShape: (f64[2000000,1,100], f64[10000,100,100,2], f64[2000000,1,100])\n",
      "\t\t==========================\n",
      "\n",
      "\tBuffer 11:\n",
      "\t\tSize: 24B\n",
      "\t\tXLA Label: constant\n",
      "\t\tShape: f64[1,1,3]\n",
      "\t\t==========================\n",
      "\n",
      "\tBuffer 12:\n",
      "\t\tSize: 24B\n",
      "\t\tXLA Label: constant\n",
      "\t\tShape: f64[1,1,3]\n",
      "\t\t==========================\n",
      "\n",
      "\tBuffer 13:\n",
      "\t\tSize: 16B\n",
      "\t\tOperator: op_name=\"jit(laplacian)/jit(main)/vmap(jit(laplacian))/conv_general_dilated[window_strides=(1,) padding=((1, 1),) lhs_dilation=(1,) rhs_dilation=(1,) dimension_numbers=ConvDimensionNumbers(lhs_spec=(0, 1, 2), rhs_spec=(0, 1, 2), out_spec=(0, 1, 2)) feature_group_count=1 batch_group_count=1 precision=None preferred_element_type=None]\" source_file=\"/tmp/ipykernel_185269/3213908131.py\" source_line=54\n",
      "\t\tXLA Label: custom-call\n",
      "\t\tShape: (f64[2000000,1,100], u8[0])\n",
      "\t\t==========================\n",
      "\n",
      "\tBuffer 14:\n",
      "\t\tSize: 16B\n",
      "\t\tOperator: op_name=\"jit(laplacian)/jit(main)/vmap(jit(laplacian))/conv_general_dilated[window_strides=(1,) padding=((1, 1),) lhs_dilation=(1,) rhs_dilation=(1,) dimension_numbers=ConvDimensionNumbers(lhs_spec=(0, 1, 2), rhs_spec=(0, 1, 2), out_spec=(0, 1, 2)) feature_group_count=1 batch_group_count=1 precision=None preferred_element_type=None]\" source_file=\"/tmp/ipykernel_185269/3213908131.py\" source_line=54\n",
      "\t\tXLA Label: custom-call\n",
      "\t\tShape: (f64[2000000,1,100], u8[0])\n",
      "\t\t==========================\n",
      "\n",
      "\tBuffer 15:\n",
      "\t\tSize: 16B\n",
      "\t\tOperator: op_name=\"jit(laplacian)/jit(main)/vmap(jit(laplacian))/conv_general_dilated[window_strides=(1,) padding=((1, 1),) lhs_dilation=(1,) rhs_dilation=(1,) dimension_numbers=ConvDimensionNumbers(lhs_spec=(0, 1, 2), rhs_spec=(0, 1, 2), out_spec=(0, 1, 2)) feature_group_count=1 batch_group_count=1 precision=None preferred_element_type=None]\" source_file=\"/tmp/ipykernel_185269/3213908131.py\" source_line=54\n",
      "\t\tXLA Label: custom-call\n",
      "\t\tShape: (f64[1000000,1,100], u8[0])\n",
      "\t\t==========================\n",
      "\n",
      "\n"
     ]
    },
    {
     "ename": "XlaRuntimeError",
     "evalue": "RESOURCE_EXHAUSTED: Out of memory while trying to allocate 9600000792 bytes.\nBufferAssignment OOM Debugging.\nBufferAssignment stats:\n             parameter allocation:  762.94MiB\n              constant allocation:   468.8KiB\n        maybe_live_out allocation:  762.94MiB\n     preallocated temp allocation:    8.94GiB\n  preallocated temp fragmentation:         0B (0.00%)\n                 total allocation:   10.43GiB\n              total fragmentation:  763.40MiB (7.15%)\nPeak buffers:\n\tBuffer 1:\n\t\tSize: 2.98GiB\n\t\tOperator: op_name=\"jit(laplacian)/jit(main)/vmap(jit(laplacian))/concatenate[dimension=4]\" source_file=\"/tmp/ipykernel_185269/3213908131.py\" source_line=56\n\t\tXLA Label: fusion\n\t\tShape: f64[10000,100,100,2,2]\n\t\t==========================\n\n\tBuffer 2:\n\t\tSize: 1.49GiB\n\t\tOperator: op_name=\"jit(laplacian)/jit(main)/vmap(jit(laplacian))/conv_general_dilated[window_strides=(1,) padding=((1, 1),) lhs_dilation=(1,) rhs_dilation=(1,) dimension_numbers=ConvDimensionNumbers(lhs_spec=(0, 1, 2), rhs_spec=(0, 1, 2), out_spec=(0, 1, 2)) feature_group_count=1 batch_group_count=1 precision=None preferred_element_type=None]\" source_file=\"/tmp/ipykernel_185269/3213908131.py\" source_line=54\n\t\tXLA Label: custom-call\n\t\tShape: f64[2000000,1,100]\n\t\t==========================\n\n\tBuffer 3:\n\t\tSize: 1.49GiB\n\t\tOperator: op_name=\"jit(laplacian)/jit(main)/vmap(jit(laplacian))/conv_general_dilated[window_strides=(1,) padding=((1, 1),) lhs_dilation=(1,) rhs_dilation=(1,) dimension_numbers=ConvDimensionNumbers(lhs_spec=(0, 1, 2), rhs_spec=(0, 1, 2), out_spec=(0, 1, 2)) feature_group_count=1 batch_group_count=1 precision=None preferred_element_type=None]\" source_file=\"/tmp/ipykernel_185269/3213908131.py\" source_line=54\n\t\tXLA Label: custom-call\n\t\tShape: f64[2000000,1,100]\n\t\t==========================\n\n\tBuffer 4:\n\t\tSize: 1.49GiB\n\t\tXLA Label: fusion\n\t\tShape: f64[10000,100,100,2]\n\t\t==========================\n\n\tBuffer 5:\n\t\tSize: 1.49GiB\n\t\tOperator: op_name=\"jit(laplacian)/jit(main)/vmap(jit(laplacian))/vmap(jit(_diag))/jit(_where)/transpose[permutation=(0, 2, 1)]\" source_file=\"/tmp/ipykernel_185269/3213908131.py\" source_line=50\n\t\tXLA Label: fusion\n\t\tShape: f64[10000,10000,2]\n\t\t==========================\n\n\tBuffer 6:\n\t\tSize: 762.94MiB\n\t\tEntry Parameter Subshape: f64[10000,10000]\n\t\t==========================\n\n\tBuffer 7:\n\t\tSize: 762.94MiB\n\t\tOperator: op_name=\"jit(laplacian)/jit(main)/vmap(jit(laplacian))/add\" source_file=\"/tmp/ipykernel_185269/3213908131.py\" source_line=81\n\t\tXLA Label: fusion\n\t\tShape: f64[10000,10000]\n\t\t==========================\n\n\tBuffer 8:\n\t\tSize: 312.5KiB\n\t\tXLA Label: constant\n\t\tShape: f64[10000,2,2]\n\t\t==========================\n\n\tBuffer 9:\n\t\tSize: 156.2KiB\n\t\tXLA Label: constant\n\t\tShape: f64[10000,2]\n\t\t==========================\n\n\tBuffer 10:\n\t\tSize: 24B\n\t\tXLA Label: fusion\n\t\tShape: (f64[2000000,1,100], f64[10000,100,100,2], f64[2000000,1,100])\n\t\t==========================\n\n\tBuffer 11:\n\t\tSize: 24B\n\t\tXLA Label: constant\n\t\tShape: f64[1,1,3]\n\t\t==========================\n\n\tBuffer 12:\n\t\tSize: 24B\n\t\tXLA Label: constant\n\t\tShape: f64[1,1,3]\n\t\t==========================\n\n\tBuffer 13:\n\t\tSize: 16B\n\t\tOperator: op_name=\"jit(laplacian)/jit(main)/vmap(jit(laplacian))/conv_general_dilated[window_strides=(1,) padding=((1, 1),) lhs_dilation=(1,) rhs_dilation=(1,) dimension_numbers=ConvDimensionNumbers(lhs_spec=(0, 1, 2), rhs_spec=(0, 1, 2), out_spec=(0, 1, 2)) feature_group_count=1 batch_group_count=1 precision=None preferred_element_type=None]\" source_file=\"/tmp/ipykernel_185269/3213908131.py\" source_line=54\n\t\tXLA Label: custom-call\n\t\tShape: (f64[2000000,1,100], u8[0])\n\t\t==========================\n\n\tBuffer 14:\n\t\tSize: 16B\n\t\tOperator: op_name=\"jit(laplacian)/jit(main)/vmap(jit(laplacian))/conv_general_dilated[window_strides=(1,) padding=((1, 1),) lhs_dilation=(1,) rhs_dilation=(1,) dimension_numbers=ConvDimensionNumbers(lhs_spec=(0, 1, 2), rhs_spec=(0, 1, 2), out_spec=(0, 1, 2)) feature_group_count=1 batch_group_count=1 precision=None preferred_element_type=None]\" source_file=\"/tmp/ipykernel_185269/3213908131.py\" source_line=54\n\t\tXLA Label: custom-call\n\t\tShape: (f64[2000000,1,100], u8[0])\n\t\t==========================\n\n\tBuffer 15:\n\t\tSize: 16B\n\t\tOperator: op_name=\"jit(laplacian)/jit(main)/vmap(jit(laplacian))/conv_general_dilated[window_strides=(1,) padding=((1, 1),) lhs_dilation=(1,) rhs_dilation=(1,) dimension_numbers=ConvDimensionNumbers(lhs_spec=(0, 1, 2), rhs_spec=(0, 1, 2), out_spec=(0, 1, 2)) feature_group_count=1 batch_group_count=1 precision=None preferred_element_type=None]\" source_file=\"/tmp/ipykernel_185269/3213908131.py\" source_line=54\n\t\tXLA Label: custom-call\n\t\tShape: (f64[1000000,1,100], u8[0])\n\t\t==========================\n\n",
     "output_type": "error",
     "traceback": [
      "\u001b[0;31m---------------------------------------------------------------------------\u001b[0m",
      "\u001b[0;31mXlaRuntimeError\u001b[0m                           Traceback (most recent call last)",
      "Cell \u001b[0;32mIn[11], line 2\u001b[0m\n\u001b[1;32m      1\u001b[0m \u001b[39mimport\u001b[39;00m \u001b[39mnumpy\u001b[39;00m \u001b[39mas\u001b[39;00m \u001b[39mnp\u001b[39;00m\n\u001b[0;32m----> 2\u001b[0m es \u001b[39m=\u001b[39m np\u001b[39m.\u001b[39mlinalg\u001b[39m.\u001b[39meigvals(H\u001b[39m.\u001b[39;49mto_dense())\n",
      "File \u001b[0;32m~/cola/cola/ops/operator_base.py:191\u001b[0m, in \u001b[0;36mLinearOperator.to_dense\u001b[0;34m(self)\u001b[0m\n\u001b[1;32m    188\u001b[0m     \u001b[39mreturn\u001b[39;00m \u001b[39mself\u001b[39m\u001b[39m.\u001b[39mxnp\u001b[39m.\u001b[39meye(\u001b[39mself\u001b[39m\u001b[39m.\u001b[39mshape[\u001b[39m-\u001b[39m\u001b[39m2\u001b[39m], \u001b[39mself\u001b[39m\u001b[39m.\u001b[39mshape[\u001b[39m-\u001b[39m\u001b[39m2\u001b[39m], dtype\u001b[39m=\u001b[39m\u001b[39mself\u001b[39m\u001b[39m.\u001b[39mdtype,\n\u001b[1;32m    189\u001b[0m                         device\u001b[39m=\u001b[39m\u001b[39mself\u001b[39m\u001b[39m.\u001b[39mdevice) \u001b[39m@\u001b[39m \u001b[39mself\u001b[39m\n\u001b[1;32m    190\u001b[0m \u001b[39melse\u001b[39;00m:\n\u001b[0;32m--> 191\u001b[0m     \u001b[39mreturn\u001b[39;00m \u001b[39mself\u001b[39;49m \u001b[39m@\u001b[39;49m \u001b[39mself\u001b[39;49m\u001b[39m.\u001b[39;49mxnp\u001b[39m.\u001b[39;49meye(\u001b[39mself\u001b[39;49m\u001b[39m.\u001b[39;49mshape[\u001b[39m-\u001b[39;49m\u001b[39m1\u001b[39;49m], \u001b[39mself\u001b[39;49m\u001b[39m.\u001b[39;49mshape[\u001b[39m-\u001b[39;49m\u001b[39m1\u001b[39;49m], dtype\u001b[39m=\u001b[39;49m\u001b[39mself\u001b[39;49m\u001b[39m.\u001b[39;49mdtype,\n\u001b[1;32m    192\u001b[0m                                device\u001b[39m=\u001b[39;49m\u001b[39mself\u001b[39;49m\u001b[39m.\u001b[39;49mdevice)\n",
      "File \u001b[0;32m~/cola/cola/ops/operator_base.py:219\u001b[0m, in \u001b[0;36mLinearOperator.__matmul__\u001b[0;34m(self, X)\u001b[0m\n\u001b[1;32m    217\u001b[0m     \u001b[39mreturn\u001b[39;00m \u001b[39mself\u001b[39m\u001b[39m.\u001b[39m_matmat(X\u001b[39m.\u001b[39mreshape(\u001b[39m-\u001b[39m\u001b[39m1\u001b[39m, \u001b[39m1\u001b[39m))\u001b[39m.\u001b[39mreshape(\u001b[39m-\u001b[39m\u001b[39m1\u001b[39m)\n\u001b[1;32m    218\u001b[0m \u001b[39melif\u001b[39;00m \u001b[39mlen\u001b[39m(X\u001b[39m.\u001b[39mshape) \u001b[39m>\u001b[39m\u001b[39m=\u001b[39m \u001b[39m2\u001b[39m:\n\u001b[0;32m--> 219\u001b[0m     \u001b[39mreturn\u001b[39;00m \u001b[39mself\u001b[39;49m\u001b[39m.\u001b[39;49m_matmat(X)\n\u001b[1;32m    220\u001b[0m \u001b[39melse\u001b[39;00m:\n\u001b[1;32m    221\u001b[0m     \u001b[39mraise\u001b[39;00m \u001b[39mNotImplementedError\u001b[39;00m\n",
      "File \u001b[0;32m~/cola/cola/ops/operators.py:159\u001b[0m, in \u001b[0;36mSum._matmat\u001b[0;34m(self, v)\u001b[0m\n\u001b[1;32m    158\u001b[0m \u001b[39mdef\u001b[39;00m \u001b[39m_matmat\u001b[39m(\u001b[39mself\u001b[39m, v):\n\u001b[0;32m--> 159\u001b[0m     \u001b[39mreturn\u001b[39;00m \u001b[39msum\u001b[39;49m(M \u001b[39m@\u001b[39;49m v \u001b[39mfor\u001b[39;49;00m M \u001b[39min\u001b[39;49;00m \u001b[39mself\u001b[39;49m\u001b[39m.\u001b[39;49mMs)\n",
      "File \u001b[0;32m~/cola/cola/ops/operators.py:159\u001b[0m, in \u001b[0;36m<genexpr>\u001b[0;34m(.0)\u001b[0m\n\u001b[1;32m    158\u001b[0m \u001b[39mdef\u001b[39;00m \u001b[39m_matmat\u001b[39m(\u001b[39mself\u001b[39m, v):\n\u001b[0;32m--> 159\u001b[0m     \u001b[39mreturn\u001b[39;00m \u001b[39msum\u001b[39m(M \u001b[39m@\u001b[39;49m v \u001b[39mfor\u001b[39;00m M \u001b[39min\u001b[39;00m \u001b[39mself\u001b[39m\u001b[39m.\u001b[39mMs)\n",
      "File \u001b[0;32m~/cola/cola/ops/operator_base.py:219\u001b[0m, in \u001b[0;36mLinearOperator.__matmul__\u001b[0;34m(self, X)\u001b[0m\n\u001b[1;32m    217\u001b[0m     \u001b[39mreturn\u001b[39;00m \u001b[39mself\u001b[39m\u001b[39m.\u001b[39m_matmat(X\u001b[39m.\u001b[39mreshape(\u001b[39m-\u001b[39m\u001b[39m1\u001b[39m, \u001b[39m1\u001b[39m))\u001b[39m.\u001b[39mreshape(\u001b[39m-\u001b[39m\u001b[39m1\u001b[39m)\n\u001b[1;32m    218\u001b[0m \u001b[39melif\u001b[39;00m \u001b[39mlen\u001b[39m(X\u001b[39m.\u001b[39mshape) \u001b[39m>\u001b[39m\u001b[39m=\u001b[39m \u001b[39m2\u001b[39m:\n\u001b[0;32m--> 219\u001b[0m     \u001b[39mreturn\u001b[39;00m \u001b[39mself\u001b[39;49m\u001b[39m.\u001b[39;49m_matmat(X)\n\u001b[1;32m    220\u001b[0m \u001b[39melse\u001b[39;00m:\n\u001b[1;32m    221\u001b[0m     \u001b[39mraise\u001b[39;00m \u001b[39mNotImplementedError\u001b[39;00m\n",
      "File \u001b[0;32m~/cola/cola/ops/operators.py:134\u001b[0m, in \u001b[0;36mProduct._matmat\u001b[0;34m(self, v)\u001b[0m\n\u001b[1;32m    132\u001b[0m \u001b[39mdef\u001b[39;00m \u001b[39m_matmat\u001b[39m(\u001b[39mself\u001b[39m, v):\n\u001b[1;32m    133\u001b[0m     \u001b[39mfor\u001b[39;00m M \u001b[39min\u001b[39;00m \u001b[39mself\u001b[39m\u001b[39m.\u001b[39mMs[::\u001b[39m-\u001b[39m\u001b[39m1\u001b[39m]:\n\u001b[0;32m--> 134\u001b[0m         v \u001b[39m=\u001b[39m M \u001b[39m@\u001b[39;49m v\n\u001b[1;32m    135\u001b[0m     \u001b[39mreturn\u001b[39;00m v\n",
      "File \u001b[0;32m~/cola/cola/ops/operator_base.py:219\u001b[0m, in \u001b[0;36mLinearOperator.__matmul__\u001b[0;34m(self, X)\u001b[0m\n\u001b[1;32m    217\u001b[0m     \u001b[39mreturn\u001b[39;00m \u001b[39mself\u001b[39m\u001b[39m.\u001b[39m_matmat(X\u001b[39m.\u001b[39mreshape(\u001b[39m-\u001b[39m\u001b[39m1\u001b[39m, \u001b[39m1\u001b[39m))\u001b[39m.\u001b[39mreshape(\u001b[39m-\u001b[39m\u001b[39m1\u001b[39m)\n\u001b[1;32m    218\u001b[0m \u001b[39melif\u001b[39;00m \u001b[39mlen\u001b[39m(X\u001b[39m.\u001b[39mshape) \u001b[39m>\u001b[39m\u001b[39m=\u001b[39m \u001b[39m2\u001b[39m:\n\u001b[0;32m--> 219\u001b[0m     \u001b[39mreturn\u001b[39;00m \u001b[39mself\u001b[39;49m\u001b[39m.\u001b[39;49m_matmat(X)\n\u001b[1;32m    220\u001b[0m \u001b[39melse\u001b[39;00m:\n\u001b[1;32m    221\u001b[0m     \u001b[39mraise\u001b[39;00m \u001b[39mNotImplementedError\u001b[39;00m\n",
      "File \u001b[0;32m~/cola/cola/ops/operators.py:134\u001b[0m, in \u001b[0;36mProduct._matmat\u001b[0;34m(self, v)\u001b[0m\n\u001b[1;32m    132\u001b[0m \u001b[39mdef\u001b[39;00m \u001b[39m_matmat\u001b[39m(\u001b[39mself\u001b[39m, v):\n\u001b[1;32m    133\u001b[0m     \u001b[39mfor\u001b[39;00m M \u001b[39min\u001b[39;00m \u001b[39mself\u001b[39m\u001b[39m.\u001b[39mMs[::\u001b[39m-\u001b[39m\u001b[39m1\u001b[39m]:\n\u001b[0;32m--> 134\u001b[0m         v \u001b[39m=\u001b[39m M \u001b[39m@\u001b[39;49m v\n\u001b[1;32m    135\u001b[0m     \u001b[39mreturn\u001b[39;00m v\n",
      "File \u001b[0;32m~/cola/cola/ops/operator_base.py:219\u001b[0m, in \u001b[0;36mLinearOperator.__matmul__\u001b[0;34m(self, X)\u001b[0m\n\u001b[1;32m    217\u001b[0m     \u001b[39mreturn\u001b[39;00m \u001b[39mself\u001b[39m\u001b[39m.\u001b[39m_matmat(X\u001b[39m.\u001b[39mreshape(\u001b[39m-\u001b[39m\u001b[39m1\u001b[39m, \u001b[39m1\u001b[39m))\u001b[39m.\u001b[39mreshape(\u001b[39m-\u001b[39m\u001b[39m1\u001b[39m)\n\u001b[1;32m    218\u001b[0m \u001b[39melif\u001b[39;00m \u001b[39mlen\u001b[39m(X\u001b[39m.\u001b[39mshape) \u001b[39m>\u001b[39m\u001b[39m=\u001b[39m \u001b[39m2\u001b[39m:\n\u001b[0;32m--> 219\u001b[0m     \u001b[39mreturn\u001b[39;00m \u001b[39mself\u001b[39;49m\u001b[39m.\u001b[39;49m_matmat(X)\n\u001b[1;32m    220\u001b[0m \u001b[39melse\u001b[39;00m:\n\u001b[1;32m    221\u001b[0m     \u001b[39mraise\u001b[39;00m \u001b[39mNotImplementedError\u001b[39;00m\n",
      "    \u001b[0;31m[... skipping hidden 10 frame]\u001b[0m\n",
      "File \u001b[0;32m~/anaconda3/envs/cola/lib/python3.10/site-packages/jax/_src/interpreters/pxla.py:1229\u001b[0m, in \u001b[0;36mExecuteReplicated.__call__\u001b[0;34m(self, *args)\u001b[0m\n\u001b[1;32m   1224\u001b[0m   \u001b[39mself\u001b[39m\u001b[39m.\u001b[39m_handle_token_bufs(\n\u001b[1;32m   1225\u001b[0m       results\u001b[39m.\u001b[39mdisassemble_prefix_into_single_device_arrays(\n\u001b[1;32m   1226\u001b[0m           \u001b[39mlen\u001b[39m(\u001b[39mself\u001b[39m\u001b[39m.\u001b[39mordered_effects)),\n\u001b[1;32m   1227\u001b[0m       results\u001b[39m.\u001b[39mconsume_token())\n\u001b[1;32m   1228\u001b[0m \u001b[39melse\u001b[39;00m:\n\u001b[0;32m-> 1229\u001b[0m   results \u001b[39m=\u001b[39m \u001b[39mself\u001b[39;49m\u001b[39m.\u001b[39;49mxla_executable\u001b[39m.\u001b[39;49mexecute_sharded(input_bufs)\n\u001b[1;32m   1230\u001b[0m \u001b[39mif\u001b[39;00m dispatch\u001b[39m.\u001b[39mneeds_check_special():\n\u001b[1;32m   1231\u001b[0m   out_arrays \u001b[39m=\u001b[39m results\u001b[39m.\u001b[39mdisassemble_into_single_device_arrays()\n",
      "\u001b[0;31mXlaRuntimeError\u001b[0m: RESOURCE_EXHAUSTED: Out of memory while trying to allocate 9600000792 bytes.\nBufferAssignment OOM Debugging.\nBufferAssignment stats:\n             parameter allocation:  762.94MiB\n              constant allocation:   468.8KiB\n        maybe_live_out allocation:  762.94MiB\n     preallocated temp allocation:    8.94GiB\n  preallocated temp fragmentation:         0B (0.00%)\n                 total allocation:   10.43GiB\n              total fragmentation:  763.40MiB (7.15%)\nPeak buffers:\n\tBuffer 1:\n\t\tSize: 2.98GiB\n\t\tOperator: op_name=\"jit(laplacian)/jit(main)/vmap(jit(laplacian))/concatenate[dimension=4]\" source_file=\"/tmp/ipykernel_185269/3213908131.py\" source_line=56\n\t\tXLA Label: fusion\n\t\tShape: f64[10000,100,100,2,2]\n\t\t==========================\n\n\tBuffer 2:\n\t\tSize: 1.49GiB\n\t\tOperator: op_name=\"jit(laplacian)/jit(main)/vmap(jit(laplacian))/conv_general_dilated[window_strides=(1,) padding=((1, 1),) lhs_dilation=(1,) rhs_dilation=(1,) dimension_numbers=ConvDimensionNumbers(lhs_spec=(0, 1, 2), rhs_spec=(0, 1, 2), out_spec=(0, 1, 2)) feature_group_count=1 batch_group_count=1 precision=None preferred_element_type=None]\" source_file=\"/tmp/ipykernel_185269/3213908131.py\" source_line=54\n\t\tXLA Label: custom-call\n\t\tShape: f64[2000000,1,100]\n\t\t==========================\n\n\tBuffer 3:\n\t\tSize: 1.49GiB\n\t\tOperator: op_name=\"jit(laplacian)/jit(main)/vmap(jit(laplacian))/conv_general_dilated[window_strides=(1,) padding=((1, 1),) lhs_dilation=(1,) rhs_dilation=(1,) dimension_numbers=ConvDimensionNumbers(lhs_spec=(0, 1, 2), rhs_spec=(0, 1, 2), out_spec=(0, 1, 2)) feature_group_count=1 batch_group_count=1 precision=None preferred_element_type=None]\" source_file=\"/tmp/ipykernel_185269/3213908131.py\" source_line=54\n\t\tXLA Label: custom-call\n\t\tShape: f64[2000000,1,100]\n\t\t==========================\n\n\tBuffer 4:\n\t\tSize: 1.49GiB\n\t\tXLA Label: fusion\n\t\tShape: f64[10000,100,100,2]\n\t\t==========================\n\n\tBuffer 5:\n\t\tSize: 1.49GiB\n\t\tOperator: op_name=\"jit(laplacian)/jit(main)/vmap(jit(laplacian))/vmap(jit(_diag))/jit(_where)/transpose[permutation=(0, 2, 1)]\" source_file=\"/tmp/ipykernel_185269/3213908131.py\" source_line=50\n\t\tXLA Label: fusion\n\t\tShape: f64[10000,10000,2]\n\t\t==========================\n\n\tBuffer 6:\n\t\tSize: 762.94MiB\n\t\tEntry Parameter Subshape: f64[10000,10000]\n\t\t==========================\n\n\tBuffer 7:\n\t\tSize: 762.94MiB\n\t\tOperator: op_name=\"jit(laplacian)/jit(main)/vmap(jit(laplacian))/add\" source_file=\"/tmp/ipykernel_185269/3213908131.py\" source_line=81\n\t\tXLA Label: fusion\n\t\tShape: f64[10000,10000]\n\t\t==========================\n\n\tBuffer 8:\n\t\tSize: 312.5KiB\n\t\tXLA Label: constant\n\t\tShape: f64[10000,2,2]\n\t\t==========================\n\n\tBuffer 9:\n\t\tSize: 156.2KiB\n\t\tXLA Label: constant\n\t\tShape: f64[10000,2]\n\t\t==========================\n\n\tBuffer 10:\n\t\tSize: 24B\n\t\tXLA Label: fusion\n\t\tShape: (f64[2000000,1,100], f64[10000,100,100,2], f64[2000000,1,100])\n\t\t==========================\n\n\tBuffer 11:\n\t\tSize: 24B\n\t\tXLA Label: constant\n\t\tShape: f64[1,1,3]\n\t\t==========================\n\n\tBuffer 12:\n\t\tSize: 24B\n\t\tXLA Label: constant\n\t\tShape: f64[1,1,3]\n\t\t==========================\n\n\tBuffer 13:\n\t\tSize: 16B\n\t\tOperator: op_name=\"jit(laplacian)/jit(main)/vmap(jit(laplacian))/conv_general_dilated[window_strides=(1,) padding=((1, 1),) lhs_dilation=(1,) rhs_dilation=(1,) dimension_numbers=ConvDimensionNumbers(lhs_spec=(0, 1, 2), rhs_spec=(0, 1, 2), out_spec=(0, 1, 2)) feature_group_count=1 batch_group_count=1 precision=None preferred_element_type=None]\" source_file=\"/tmp/ipykernel_185269/3213908131.py\" source_line=54\n\t\tXLA Label: custom-call\n\t\tShape: (f64[2000000,1,100], u8[0])\n\t\t==========================\n\n\tBuffer 14:\n\t\tSize: 16B\n\t\tOperator: op_name=\"jit(laplacian)/jit(main)/vmap(jit(laplacian))/conv_general_dilated[window_strides=(1,) padding=((1, 1),) lhs_dilation=(1,) rhs_dilation=(1,) dimension_numbers=ConvDimensionNumbers(lhs_spec=(0, 1, 2), rhs_spec=(0, 1, 2), out_spec=(0, 1, 2)) feature_group_count=1 batch_group_count=1 precision=None preferred_element_type=None]\" source_file=\"/tmp/ipykernel_185269/3213908131.py\" source_line=54\n\t\tXLA Label: custom-call\n\t\tShape: (f64[2000000,1,100], u8[0])\n\t\t==========================\n\n\tBuffer 15:\n\t\tSize: 16B\n\t\tOperator: op_name=\"jit(laplacian)/jit(main)/vmap(jit(laplacian))/conv_general_dilated[window_strides=(1,) padding=((1, 1),) lhs_dilation=(1,) rhs_dilation=(1,) dimension_numbers=ConvDimensionNumbers(lhs_spec=(0, 1, 2), rhs_spec=(0, 1, 2), out_spec=(0, 1, 2)) feature_group_count=1 batch_group_count=1 precision=None preferred_element_type=None]\" source_file=\"/tmp/ipykernel_185269/3213908131.py\" source_line=54\n\t\tXLA Label: custom-call\n\t\tShape: (f64[1000000,1,100], u8[0])\n\t\t==========================\n\n"
     ]
    }
   ],
   "source": [
    "import numpy as np\n",
    "es = np.linalg.eigvals(H.to_dense())"
   ]
  },
  {
   "cell_type": "code",
   "execution_count": 10,
   "id": "f50d8182",
   "metadata": {},
   "outputs": [
    {
     "data": {
      "text/plain": [
       "(10000, 10000)"
      ]
     },
     "execution_count": 10,
     "metadata": {},
     "output_type": "execute_result"
    }
   ],
   "source": [
    "H.shape"
   ]
  },
  {
   "cell_type": "code",
   "execution_count": 18,
   "id": "102f7e62",
   "metadata": {},
   "outputs": [
    {
     "data": {
      "text/plain": [
       "array([-4.90754888e+03-1311.69329267j, -4.90754888e+03+1311.69329267j,\n",
       "       -4.29453649e+03-1641.25722276j, -4.29453649e+03+1641.25722276j,\n",
       "       -3.84794755e+03-1858.37727594j, -3.84794755e+03+1858.37727594j,\n",
       "       -3.48252843e+03-2016.43973032j, -3.48252843e+03+2016.43973032j,\n",
       "       -3.16767199e+03-2136.5828298j , -3.16767199e+03+2136.5828298j ,\n",
       "       -2.88830824e+03-2229.78326565j, -2.88830824e+03+2229.78326565j,\n",
       "       -2.63571636e+03-2302.61280987j, -2.63571636e+03+2302.61280987j,\n",
       "       -2.40431751e+03-2359.37542428j, -2.40431751e+03+2359.37542428j,\n",
       "       -2.19028874e+03-2403.07100833j, -2.19028874e+03+2403.07100833j,\n",
       "       -1.99087537e+03-2435.8888709j , -1.99087537e+03+2435.8888709j ,\n",
       "       -1.80401439e+03-2459.48436367j, -1.80401439e+03+2459.48436367j,\n",
       "       -1.62811452e+03-2475.14347346j, -1.62811452e+03+2475.14347346j,\n",
       "       -1.46191924e+03-2483.90006492j, -1.46191924e+03+2483.90006492j,\n",
       "       -1.30435261e+03-2486.5542206j , -1.30435261e+03+2486.5542206j ,\n",
       "       -1.15445324e+03-2483.95545738j, -1.15445324e+03+2483.95545738j,\n",
       "       -1.00639872e+03-2469.46730506j, -1.00639872e+03+2469.46730506j,\n",
       "       -9.24920785e+02-2449.53020771j, -9.24920785e+02+2449.53020771j,\n",
       "       -8.42638409e+02-2120.4527852j , -8.42638409e+02+2120.4527852j ,\n",
       "       -8.04556303e+02-2507.47497408j, -8.04556303e+02+2507.47497408j,\n",
       "       -7.37910061e+02-1762.75229625j, -7.37910061e+02+1762.75229625j,\n",
       "       -6.66937651e+02-2536.77197944j, -6.66937651e+02+2536.77197944j,\n",
       "       -6.09803767e+02-1390.68370683j, -6.09803767e+02+1390.68370683j,\n",
       "       -5.30737909e+02-2567.80836476j, -5.30737909e+02+2567.80836476j,\n",
       "       -4.39925481e+02-1007.85924896j, -4.39925481e+02+1007.85924896j,\n",
       "       -3.69484301e+02-2586.53298889j, -3.69484301e+02+2586.53298889j,\n",
       "       -2.47794641e+02-2561.83731697j, -2.47794641e+02+2561.83731697j,\n",
       "       -1.87683893e+02 -718.07250831j, -1.87683893e+02 +718.07250831j,\n",
       "       -1.11107310e+02 -442.81719756j, -1.11107310e+02 +442.81719756j,\n",
       "       -1.08534704e+02-2604.79647124j, -1.08534704e+02+2604.79647124j,\n",
       "        4.13261117e-01 -203.17241789j,  4.13261117e-01 +203.17241789j])"
      ]
     },
     "execution_count": 18,
     "metadata": {},
     "output_type": "execute_result"
    }
   ],
   "source": [
    "np.sort(e2)[:60]"
   ]
  },
  {
   "cell_type": "code",
   "execution_count": 19,
   "id": "f2dab6c2",
   "metadata": {},
   "outputs": [
    {
     "data": {
      "text/plain": [
       "array([ 0.49999913,  1.49999185,  2.49997236,  3.49992991,  4.49985116,\n",
       "        5.49971871,  6.49951162,  7.49920517,  8.49877097,  9.49817688,\n",
       "       10.49738703, 11.49636184, 12.49505793, 13.49342818, 14.49142167,\n",
       "       15.48898368, 16.48605563, 17.48257509, 18.47847573, 19.47368727])"
      ]
     },
     "execution_count": 19,
     "metadata": {},
     "output_type": "execute_result"
    }
   ],
   "source": [
    "np.sort(es)[:20]"
   ]
  },
  {
   "cell_type": "code",
   "execution_count": null,
   "id": "fc62f96c",
   "metadata": {},
   "outputs": [],
   "source": []
  }
 ],
 "metadata": {
  "kernelspec": {
   "display_name": "Python 3 (ipykernel)",
   "language": "python",
   "name": "python3"
  },
  "language_info": {
   "codemirror_mode": {
    "name": "ipython",
    "version": 3
   },
   "file_extension": ".py",
   "mimetype": "text/x-python",
   "name": "python",
   "nbconvert_exporter": "python",
   "pygments_lexer": "ipython3",
   "version": "3.10.12"
  }
 },
 "nbformat": 4,
 "nbformat_minor": 5
}

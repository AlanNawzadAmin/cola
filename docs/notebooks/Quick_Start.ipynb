{
 "cells": [
  {
   "cell_type": "markdown",
   "id": "db6a4e6e",
   "metadata": {},
   "source": [
    "# Quick Start"
   ]
  },
  {
   "cell_type": "markdown",
   "id": "bfe766bf",
   "metadata": {},
   "source": [
    "We now showcase some basic functionality present in CoLA. We'll start by showing how to define different types of Linear ops, then we'll show how to perform basic arithmetic with Linear ops and, finally, we'll conclude applying some linear algebra operations (like solves or log determinants) to the Linear ops.\n",
    "\n",
    "We'll work with torch.tensors in this example, but the same code can be run using JAX arrays (jnp.ndarrays). "
   ]
  },
  {
   "cell_type": "code",
   "execution_count": 1,
   "id": "59a79e4b",
   "metadata": {},
   "outputs": [
    {
     "data": {
      "text/plain": [
       "<torch._C.Generator at 0x7fe235dde670>"
      ]
     },
     "execution_count": 1,
     "metadata": {},
     "output_type": "execute_result"
    }
   ],
   "source": [
    "import cola\n",
    "import torch\n",
    "torch.manual_seed(21)"
   ]
  },
  {
   "cell_type": "markdown",
   "id": "e53243fb",
   "metadata": {},
   "source": [
    "## Creating a Linear Operator"
   ]
  },
  {
   "cell_type": "markdown",
   "id": "b2eb2c59",
   "metadata": {},
   "source": [
    "You can find several predefined Linear ops under cola.ops. We'll ilustrate three basic cases: Dense, Diagonal and Tridiagonal."
   ]
  },
  {
   "cell_type": "markdown",
   "id": "6533e4e6",
   "metadata": {},
   "source": [
    "A Dense Linear Operator is nothing more than a wrapper on a dense matrix, where the wrapper defines a matmat function $v \\mapsto Av$ and holds several attributes such as dtype and shape.\n",
    "\n",
    "Let's start by defining a dense matrix and a vector to act upon. Below we show the entries of the matrix $A$, of the vector $v$ and the result of $Av$."
   ]
  },
  {
   "cell_type": "code",
   "execution_count": 2,
   "id": "a6b5a337",
   "metadata": {},
   "outputs": [
    {
     "name": "stdout",
     "output_type": "stream",
     "text": [
      "A: tensor([[-0.2386, -1.0934,  0.1558,  0.1750],\n",
      "        [-0.9526, -0.5442,  1.1985,  0.9604],\n",
      "        [-1.1074, -0.8403, -0.0020,  0.2240],\n",
      "        [ 0.8766, -0.5379, -0.2994,  0.9785]])\n",
      "Av: tensor([-0.3842, -1.8328, -0.7573,  0.9795])\n"
     ]
    }
   ],
   "source": [
    "N = 4\n",
    "A_dense = torch.randn(N, N)\n",
    "vec = torch.randn(N)\n",
    "print(f\"A: {A_dense}\\nAv: {A_dense @ vec}\")"
   ]
  },
  {
   "cell_type": "markdown",
   "id": "961e5e5f",
   "metadata": {},
   "source": [
    "To create a Dense operator simply run:"
   ]
  },
  {
   "cell_type": "code",
   "execution_count": 3,
   "id": "ca58aa3f",
   "metadata": {},
   "outputs": [
    {
     "name": "stdout",
     "output_type": "stream",
     "text": [
      "<class 'cola.ops.operators.Dense'>\n"
     ]
    }
   ],
   "source": [
    "A = cola.ops.Dense(A_dense)\n",
    "print(type(A))"
   ]
  },
  {
   "cell_type": "markdown",
   "id": "7341fbcc",
   "metadata": {},
   "source": [
    "The previous operator now has a dtype and a shape attribute. More importantly, it can now act on the vector $v$ and get the same result as above."
   ]
  },
  {
   "cell_type": "code",
   "execution_count": 4,
   "id": "a3d963cb",
   "metadata": {},
   "outputs": [
    {
     "name": "stdout",
     "output_type": "stream",
     "text": [
      "Dtype: torch.float32 | Shape: torch.Size([4, 4])\n",
      "tensor([-0.3842, -1.8328, -0.7573,  0.9795])\n"
     ]
    }
   ],
   "source": [
    "print(f\"Dtype: {A.dtype} | Shape: {A.shape}\")\n",
    "print(A @ vec)"
   ]
  },
  {
   "cell_type": "markdown",
   "id": "6bc98c38",
   "metadata": {},
   "source": [
    "In order to make use of the benefits of CoLA, let's consider using some large structued Linear Operators. First lets start by creating some structured linear operators, such as a digaonal, a dense matrix, and a permutation matrix."
   ]
  },
  {
   "cell_type": "code",
   "execution_count": 5,
   "id": "2d2dddc6",
   "metadata": {},
   "outputs": [
    {
     "name": "stdout",
     "output_type": "stream",
     "text": [
      "tensor([[-2.,  1.,  0.],\n",
      "        [ 1., -2.,  1.],\n",
      "        [ 0.,  1., -2.]]), Type: Tridiagonal\n"
     ]
    }
   ],
   "source": [
    "ones = torch.ones(300)\n",
    "upper = ones[:-1]\n",
    "lower = ones[:-1]\n",
    "diagonal= -2*ones\n",
    "\n",
    "T = cola.ops.Tridiagonal(lower, diagonal, upper)\n",
    "print(f\"{T[:3,:3].to_dense()}, Type: {T}\")"
   ]
  },
  {
   "cell_type": "code",
   "execution_count": 6,
   "id": "ec6e4c9d",
   "metadata": {},
   "outputs": [
    {
     "name": "stdout",
     "output_type": "stream",
     "text": [
      "tensor([-0.4161, -0.2753,  1.9718,  0.0790, -0.1104]) tensor([-0.4161, -0.2753,  1.9718,  0.0790, -0.1104])\n"
     ]
    }
   ],
   "source": [
    "import numpy as np\n",
    "perm = torch.randperm(200)\n",
    "P = cola.ops.Permutation(perm)\n",
    "v = torch.randn(200)\n",
    "print((P@v)[:5],v[perm[:5]])"
   ]
  },
  {
   "cell_type": "markdown",
   "id": "3926d60a",
   "metadata": {},
   "source": [
    "For these Linear Operators, the memory and compute cost for multiplication is only $O(n)$ rather than the $O(n^2)$ for dense."
   ]
  },
  {
   "cell_type": "markdown",
   "id": "5e3ad4c5",
   "metadata": {},
   "source": [
    "## Doing binary operations with Linear ops"
   ]
  },
  {
   "cell_type": "markdown",
   "id": "2b517daa",
   "metadata": {},
   "source": [
    "CoLA provides a similar interface to combine Linear ops as you would combine matrices. \n",
    "We can add and subtract (+,-), multiply by scalars (*,/), matrix multiply (@), transpose (.T), slice [:,:] and more"
   ]
  },
  {
   "cell_type": "code",
   "execution_count": 7,
   "id": "f2a25ebe",
   "metadata": {},
   "outputs": [
    {
     "name": "stdout",
     "output_type": "stream",
     "text": [
      "tensor([[-3.,  1.,  0.,  0.],\n",
      "        [ 1., -4.,  1.,  0.],\n",
      "        [ 0.,  1., -5.,  1.],\n",
      "        [ 0.,  0.,  1., -6.]])\n"
     ]
    }
   ],
   "source": [
    "D = cola.diag(torch.tensor([1,2,3,4.]))\n",
    "DT = T[:4,:4]-D\n",
    "print(DT.to_dense())"
   ]
  },
  {
   "cell_type": "markdown",
   "id": "672753f0",
   "metadata": {},
   "source": [
    "Let's use these operations to make $B= A^T(T_{[:4,:4]}-D) + \\mu I$ regularized by $\\mu$ by running the following code."
   ]
  },
  {
   "cell_type": "code",
   "execution_count": 8,
   "id": "ab53f7a9",
   "metadata": {},
   "outputs": [
    {
     "name": "stdout",
     "output_type": "stream",
     "text": [
      "Object: DenseᵀTridiagonal[slice(None, 4, None),slice(None, 4, None)]+-1.0diag(tensor([1., 2., 3., 4.]))+9.999999974752427e-07I\n",
      " tensor([[-0.2368,  2.4642,  5.4611, -6.3671],\n",
      "        [ 2.7361,  0.2431,  3.1194,  2.3872],\n",
      "        [ 0.7310, -4.6402,  0.9091,  1.7946],\n",
      "        [ 0.4354, -3.4425,  0.8188, -5.6472]])\n"
     ]
    }
   ],
   "source": [
    "mu = 1e-6\n",
    "B = A.T @ DT\n",
    "B += mu * cola.ops.I_like(B)\n",
    "print(f\"Object: {B}\\n {B.to_dense()}\")"
   ]
  },
  {
   "cell_type": "markdown",
   "id": "71d92cf5",
   "metadata": {},
   "source": [
    "Linear Operators can also be combined in more involved ways, such as with `kron` for $\\otimes$, `block_diag`, and `concatenate`"
   ]
  },
  {
   "cell_type": "code",
   "execution_count": 10,
   "id": "06defdf2",
   "metadata": {},
   "outputs": [
    {
     "name": "stdout",
     "output_type": "stream",
     "text": [
      "tensor([[-0.2386,  0.0000,  0.0000,  0.0000, -1.0934],\n",
      "        [ 0.0000, -0.4772,  0.0000,  0.0000,  0.0000],\n",
      "        [ 0.0000,  0.0000, -0.7157,  0.0000,  0.0000],\n",
      "        [ 0.0000,  0.0000,  0.0000, -0.9543,  0.0000],\n",
      "        [-0.9526,  0.0000,  0.0000,  0.0000, -0.5442]])\n",
      " shape: (16, 16), object: Dense⊗diag(tensor([1., 2., 3., 4.]))\n"
     ]
    }
   ],
   "source": [
    "K = cola.kron(A,D)\n",
    "print(f\"{K[:5,:5].to_dense()}\\n shape: {K.shape}, object: {K}\")"
   ]
  },
  {
   "cell_type": "code",
   "execution_count": 11,
   "id": "f660e95b",
   "metadata": {},
   "outputs": [
    {
     "data": {
      "text/plain": [
       "<2100x2100 BlockDiag[cola.ops.operators.Kronecker[cola.ops.operators.Dense, cola.ops.operators.Permutation], cola.ops.operators.Tridiagonal, cola.ops.operators.Diagonal] with dtype=torch.float32>"
      ]
     },
     "execution_count": 11,
     "metadata": {},
     "output_type": "execute_result"
    }
   ],
   "source": [
    "d = 1/(1+torch.linspace(.2,10,1000))\n",
    "X = cola.block_diag(cola.kron(A,P), T, cola.diag(d))\n",
    "X"
   ]
  },
  {
   "cell_type": "markdown",
   "id": "04fce179",
   "metadata": {},
   "source": [
    "Under the hood the operator $B$ is lazily defined and would know how to apply the Linear ops to any vector $v$."
   ]
  },
  {
   "cell_type": "markdown",
   "id": "a7ff6087",
   "metadata": {},
   "source": [
    "## Computing linear algebra operations (e.g. solves, logdet, diag, exp)"
   ]
  },
  {
   "cell_type": "markdown",
   "id": "c20bab0b",
   "metadata": {},
   "source": [
    "To solve the linear system $Bx=v$ we use the inverse function. This inverse function lazily defines $B^{-1}$ and hence applying it to $v$ yields the solution $x=B^{-1}v$. The inverse of $B$ is never computed, using $B^{-1}$ is simply how in CoLA we call linear solves."
   ]
  },
  {
   "cell_type": "code",
   "execution_count": 24,
   "id": "4e803b0c",
   "metadata": {},
   "outputs": [
    {
     "data": {
      "text/plain": [
       "torch.Size([2100, 5])"
      ]
     },
     "execution_count": 24,
     "metadata": {},
     "output_type": "execute_result"
    }
   ],
   "source": [
    "X[:,:5].to_dense().shape"
   ]
  },
  {
   "cell_type": "code",
   "execution_count": 12,
   "id": "7f86d272",
   "metadata": {},
   "outputs": [
    {
     "name": "stdout",
     "output_type": "stream",
     "text": [
      "Solution error: 4.37e-06\n"
     ]
    }
   ],
   "source": [
    "X_inv = cola.inverse(X)\n",
    "v = torch.randn(X.shape[-1])\n",
    "soln = X_inv @ v\n",
    "print(f\"Solution error: {torch.linalg.norm(X @ soln - v)/torch.linalg.norm(v):.2e}\")"
   ]
  },
  {
   "cell_type": "code",
   "execution_count": 13,
   "id": "64d99cbf",
   "metadata": {},
   "outputs": [
    {
     "name": "stdout",
     "output_type": "stream",
     "text": [
      "CoLA logdet: -1564.690, dense logdet -1564.690\n"
     ]
    }
   ],
   "source": [
    "print(f\"CoLA logdet: {cola.logdet(X):.3f}, dense logdet {torch.logdet(X.to_dense()):.3f}\")"
   ]
  },
  {
   "cell_type": "code",
   "execution_count": 21,
   "id": "04d88f0f",
   "metadata": {},
   "outputs": [
    {
     "name": "stdout",
     "output_type": "stream",
     "text": [
      "CoLA diag: tensor([0.0912, 0.0912, 0.0911, 0.0910, 0.0909])\n",
      "dense diag: tensor([0.0912, 0.0912, 0.0911, 0.0910, 0.0909])\n"
     ]
    }
   ],
   "source": [
    "print(f\"CoLA diag: {cola.diag(X)[-5:]}\\ndense diag: {torch.diag(X.to_dense())[-5:]}\")"
   ]
  },
  {
   "cell_type": "code",
   "execution_count": 44,
   "id": "b6432c5b",
   "metadata": {},
   "outputs": [
    {
     "name": "stdout",
     "output_type": "stream",
     "text": [
      "CoLA exp(X): tensor([[0.3085, 0.2153, 0.0932, 0.0288, 0.0066],\n",
      "        [0.2153, 0.3085, 0.2152, 0.0930, 0.0275],\n",
      "        [0.0932, 0.2152, 0.3083, 0.2139, 0.0864],\n",
      "        [0.0288, 0.0930, 0.2139, 0.3016, 0.1865],\n",
      "        [0.0066, 0.0275, 0.0864, 0.1865, 0.2153]])\n",
      "scipy expm: [[0.30850828 0.21526888 0.09323523 0.02876081 0.0066488 ]\n",
      " [0.21526891 0.30850452 0.2152388  0.09302244 0.02746145]\n",
      " [0.09323531 0.2152388  0.30829173 0.21393944 0.08637362]\n",
      " [0.02876082 0.09302243 0.2139395  0.30164295 0.18647799]\n",
      " [0.0066488  0.02746145 0.08637366 0.18647805 0.21526927]]\n"
     ]
    }
   ],
   "source": [
    "from scipy.linalg import expm\n",
    "scipy_expm = expm((T.to_dense()).numpy())\n",
    "print(f\"CoLA exp(X): {cola.exp(T)[-5:,-5:].to_dense().real}\\nscipy expm: {scipy_expm[-5:,-5:]}\")"
   ]
  },
  {
   "cell_type": "code",
   "execution_count": 36,
   "id": "23e4504e",
   "metadata": {},
   "outputs": [
    {
     "data": {
      "text/plain": [
       "tensor(0.+0.j)"
      ]
     },
     "execution_count": 36,
     "metadata": {},
     "output_type": "execute_result"
    }
   ],
   "source": [
    "print(f\"CoLA exp(X): {cola.exp(T,method='iterative')[-5:,-5:].to_dense().real}\\nscipy expm: {scipy_expm[-5:,-5:]}\")\n",
    "#TODO Andres: investigate why iterative exp not working for big matrices"
   ]
  },
  {
   "cell_type": "code",
   "execution_count": 54,
   "id": "32ad8a12",
   "metadata": {},
   "outputs": [],
   "source": [
    "C = X.T@X\n",
    "# let's annotate this matrix as positive definite to speed up the computation\n",
    "C = cola.PSD(C)\n",
    "e,v = cola.eig(C,eig_slice=np.s_[-3:],max_iters=100)"
   ]
  },
  {
   "cell_type": "code",
   "execution_count": 55,
   "id": "2d0f3297",
   "metadata": {},
   "outputs": [
    {
     "name": "stdout",
     "output_type": "stream",
     "text": [
      "tensor([15.9769, 15.9922, 15.9984]) tensor([15.9922, 15.9965, 15.9991])\n"
     ]
    }
   ],
   "source": [
    "print(e, torch.linalg.eigh(C.to_dense())[0][-3:])"
   ]
  },
  {
   "cell_type": "code",
   "execution_count": 57,
   "id": "477eae7e",
   "metadata": {},
   "outputs": [
    {
     "ename": "KeyboardInterrupt",
     "evalue": "",
     "output_type": "error",
     "traceback": [
      "\u001b[0;31m---------------------------------------------------------------------------\u001b[0m",
      "\u001b[0;31mKeyboardInterrupt\u001b[0m                         Traceback (most recent call last)",
      "Cell \u001b[0;32mIn[57], line 1\u001b[0m\n\u001b[0;32m----> 1\u001b[0m e,v \u001b[39m=\u001b[39m cola\u001b[39m.\u001b[39;49meig(C,eig_slice\u001b[39m=\u001b[39;49mnp\u001b[39m.\u001b[39;49ms_[:\u001b[39m3\u001b[39;49m])\n\u001b[1;32m      2\u001b[0m \u001b[39mprint\u001b[39m(e, torch\u001b[39m.\u001b[39mlinalg\u001b[39m.\u001b[39meigh(C\u001b[39m.\u001b[39mto_dense())[\u001b[39m0\u001b[39m][:\u001b[39m3\u001b[39m])\n",
      "File \u001b[0;32m~/anaconda3/envs/cola/lib/python3.10/site-packages/plum/function.py:438\u001b[0m, in \u001b[0;36mFunction.__call__\u001b[0;34m(self, *args, **kw_args)\u001b[0m\n\u001b[1;32m    436\u001b[0m     method, return_type, loginfo \u001b[39m=\u001b[39m \u001b[39mself\u001b[39m\u001b[39m.\u001b[39mresolve_method(args, types)\n\u001b[1;32m    437\u001b[0m logging\u001b[39m.\u001b[39minfo(\u001b[39m\"\u001b[39m\u001b[39m%s\u001b[39;00m\u001b[39m\"\u001b[39m,loginfo)\n\u001b[0;32m--> 438\u001b[0m \u001b[39mreturn\u001b[39;00m _convert(method(\u001b[39m*\u001b[39;49margs, \u001b[39m*\u001b[39;49m\u001b[39m*\u001b[39;49mkw_args), return_type)\n",
      "File \u001b[0;32m~/cola/cola/linalg/eigs.py:74\u001b[0m, in \u001b[0;36meig\u001b[0;34m(A, **kwargs)\u001b[0m\n\u001b[1;32m     72\u001b[0m     \u001b[39mreturn\u001b[39;00m eig_vals[eig_slice], Unitary(lazify(eig_vecs[:, eig_slice]))\n\u001b[1;32m     73\u001b[0m \u001b[39melif\u001b[39;00m method \u001b[39min\u001b[39;00m (\u001b[39m'\u001b[39m\u001b[39mlanczos\u001b[39m\u001b[39m'\u001b[39m, \u001b[39m'\u001b[39m\u001b[39miterative\u001b[39m\u001b[39m'\u001b[39m) \u001b[39mor\u001b[39;00m (method \u001b[39m==\u001b[39m \u001b[39m'\u001b[39m\u001b[39mauto\u001b[39m\u001b[39m'\u001b[39m \u001b[39mand\u001b[39;00m prod(A\u001b[39m.\u001b[39mshape) \u001b[39m>\u001b[39m\u001b[39m=\u001b[39m \u001b[39m1e6\u001b[39m):\n\u001b[0;32m---> 74\u001b[0m     eig_vals, eig_vecs \u001b[39m=\u001b[39m eig(LanczosDecomposition(A, \u001b[39m*\u001b[39;49m\u001b[39m*\u001b[39;49mkws), eig_slice\u001b[39m=\u001b[39;49meig_slice)\n\u001b[1;32m     75\u001b[0m     \u001b[39mreturn\u001b[39;00m eig_vals, eig_vecs\n\u001b[1;32m     76\u001b[0m \u001b[39melse\u001b[39;00m:\n",
      "File \u001b[0;32m~/anaconda3/envs/cola/lib/python3.10/site-packages/plum/function.py:438\u001b[0m, in \u001b[0;36mFunction.__call__\u001b[0;34m(self, *args, **kw_args)\u001b[0m\n\u001b[1;32m    436\u001b[0m     method, return_type, loginfo \u001b[39m=\u001b[39m \u001b[39mself\u001b[39m\u001b[39m.\u001b[39mresolve_method(args, types)\n\u001b[1;32m    437\u001b[0m logging\u001b[39m.\u001b[39minfo(\u001b[39m\"\u001b[39m\u001b[39m%s\u001b[39;00m\u001b[39m\"\u001b[39m,loginfo)\n\u001b[0;32m--> 438\u001b[0m \u001b[39mreturn\u001b[39;00m _convert(method(\u001b[39m*\u001b[39;49margs, \u001b[39m*\u001b[39;49m\u001b[39m*\u001b[39;49mkw_args), return_type)\n",
      "File \u001b[0;32m~/cola/cola/decompositions.py:51\u001b[0m, in \u001b[0;36meig\u001b[0;34m(QH, **kwargs)\u001b[0m\n\u001b[1;32m     48\u001b[0m \u001b[39m@eig\u001b[39m\u001b[39m.\u001b[39mdispatch\n\u001b[1;32m     49\u001b[0m \u001b[39mdef\u001b[39;00m \u001b[39meig\u001b[39m(QH: UnitaryDecomposition, \u001b[39m*\u001b[39m\u001b[39m*\u001b[39mkwargs):\n\u001b[1;32m     50\u001b[0m     Q, H, xnp \u001b[39m=\u001b[39m QH\u001b[39m.\u001b[39mQ, QH\u001b[39m.\u001b[39mM, QH\u001b[39m.\u001b[39mxnp\n\u001b[0;32m---> 51\u001b[0m     eig_vals, eig_vecs \u001b[39m=\u001b[39m eig(H, \u001b[39m*\u001b[39;49m\u001b[39m*\u001b[39;49mkwargs)\n\u001b[1;32m     52\u001b[0m     eig_vecs \u001b[39m=\u001b[39m xnp\u001b[39m.\u001b[39mcast(Q\u001b[39m.\u001b[39mto_dense(), dtype\u001b[39m=\u001b[39meig_vecs\u001b[39m.\u001b[39mdtype) \u001b[39m@\u001b[39m eig_vecs\u001b[39m.\u001b[39mto_dense()\n\u001b[1;32m     53\u001b[0m     eig_vecs \u001b[39m=\u001b[39m Unitary(lazify(eig_vecs))\n",
      "    \u001b[0;31m[... skipping similar frames: Function.__call__ at line 438 (1 times)]\u001b[0m\n",
      "File \u001b[0;32m~/cola/cola/linalg/eigs.py:74\u001b[0m, in \u001b[0;36meig\u001b[0;34m(A, **kwargs)\u001b[0m\n\u001b[1;32m     72\u001b[0m     \u001b[39mreturn\u001b[39;00m eig_vals[eig_slice], Unitary(lazify(eig_vecs[:, eig_slice]))\n\u001b[1;32m     73\u001b[0m \u001b[39melif\u001b[39;00m method \u001b[39min\u001b[39;00m (\u001b[39m'\u001b[39m\u001b[39mlanczos\u001b[39m\u001b[39m'\u001b[39m, \u001b[39m'\u001b[39m\u001b[39miterative\u001b[39m\u001b[39m'\u001b[39m) \u001b[39mor\u001b[39;00m (method \u001b[39m==\u001b[39m \u001b[39m'\u001b[39m\u001b[39mauto\u001b[39m\u001b[39m'\u001b[39m \u001b[39mand\u001b[39;00m prod(A\u001b[39m.\u001b[39mshape) \u001b[39m>\u001b[39m\u001b[39m=\u001b[39m \u001b[39m1e6\u001b[39m):\n\u001b[0;32m---> 74\u001b[0m     eig_vals, eig_vecs \u001b[39m=\u001b[39m eig(LanczosDecomposition(A, \u001b[39m*\u001b[39;49m\u001b[39m*\u001b[39;49mkws), eig_slice\u001b[39m=\u001b[39;49meig_slice)\n\u001b[1;32m     75\u001b[0m     \u001b[39mreturn\u001b[39;00m eig_vals, eig_vecs\n\u001b[1;32m     76\u001b[0m \u001b[39melse\u001b[39;00m:\n",
      "    \u001b[0;31m[... skipping similar frames: Function.__call__ at line 438 (1 times)]\u001b[0m\n",
      "File \u001b[0;32m~/cola/cola/decompositions.py:51\u001b[0m, in \u001b[0;36meig\u001b[0;34m(QH, **kwargs)\u001b[0m\n\u001b[1;32m     48\u001b[0m \u001b[39m@eig\u001b[39m\u001b[39m.\u001b[39mdispatch\n\u001b[1;32m     49\u001b[0m \u001b[39mdef\u001b[39;00m \u001b[39meig\u001b[39m(QH: UnitaryDecomposition, \u001b[39m*\u001b[39m\u001b[39m*\u001b[39mkwargs):\n\u001b[1;32m     50\u001b[0m     Q, H, xnp \u001b[39m=\u001b[39m QH\u001b[39m.\u001b[39mQ, QH\u001b[39m.\u001b[39mM, QH\u001b[39m.\u001b[39mxnp\n\u001b[0;32m---> 51\u001b[0m     eig_vals, eig_vecs \u001b[39m=\u001b[39m eig(H, \u001b[39m*\u001b[39;49m\u001b[39m*\u001b[39;49mkwargs)\n\u001b[1;32m     52\u001b[0m     eig_vecs \u001b[39m=\u001b[39m xnp\u001b[39m.\u001b[39mcast(Q\u001b[39m.\u001b[39mto_dense(), dtype\u001b[39m=\u001b[39meig_vecs\u001b[39m.\u001b[39mdtype) \u001b[39m@\u001b[39m eig_vecs\u001b[39m.\u001b[39mto_dense()\n\u001b[1;32m     53\u001b[0m     eig_vecs \u001b[39m=\u001b[39m Unitary(lazify(eig_vecs))\n",
      "    \u001b[0;31m[... skipping similar frames: Function.__call__ at line 438 (156 times), eig at line 74 (78 times), eig at line 51 (77 times)]\u001b[0m\n",
      "File \u001b[0;32m~/cola/cola/decompositions.py:51\u001b[0m, in \u001b[0;36meig\u001b[0;34m(QH, **kwargs)\u001b[0m\n\u001b[1;32m     48\u001b[0m \u001b[39m@eig\u001b[39m\u001b[39m.\u001b[39mdispatch\n\u001b[1;32m     49\u001b[0m \u001b[39mdef\u001b[39;00m \u001b[39meig\u001b[39m(QH: UnitaryDecomposition, \u001b[39m*\u001b[39m\u001b[39m*\u001b[39mkwargs):\n\u001b[1;32m     50\u001b[0m     Q, H, xnp \u001b[39m=\u001b[39m QH\u001b[39m.\u001b[39mQ, QH\u001b[39m.\u001b[39mM, QH\u001b[39m.\u001b[39mxnp\n\u001b[0;32m---> 51\u001b[0m     eig_vals, eig_vecs \u001b[39m=\u001b[39m eig(H, \u001b[39m*\u001b[39;49m\u001b[39m*\u001b[39;49mkwargs)\n\u001b[1;32m     52\u001b[0m     eig_vecs \u001b[39m=\u001b[39m xnp\u001b[39m.\u001b[39mcast(Q\u001b[39m.\u001b[39mto_dense(), dtype\u001b[39m=\u001b[39meig_vecs\u001b[39m.\u001b[39mdtype) \u001b[39m@\u001b[39m eig_vecs\u001b[39m.\u001b[39mto_dense()\n\u001b[1;32m     53\u001b[0m     eig_vecs \u001b[39m=\u001b[39m Unitary(lazify(eig_vecs))\n",
      "File \u001b[0;32m~/anaconda3/envs/cola/lib/python3.10/site-packages/plum/function.py:438\u001b[0m, in \u001b[0;36mFunction.__call__\u001b[0;34m(self, *args, **kw_args)\u001b[0m\n\u001b[1;32m    436\u001b[0m     method, return_type, loginfo \u001b[39m=\u001b[39m \u001b[39mself\u001b[39m\u001b[39m.\u001b[39mresolve_method(args, types)\n\u001b[1;32m    437\u001b[0m logging\u001b[39m.\u001b[39minfo(\u001b[39m\"\u001b[39m\u001b[39m%s\u001b[39;00m\u001b[39m\"\u001b[39m,loginfo)\n\u001b[0;32m--> 438\u001b[0m \u001b[39mreturn\u001b[39;00m _convert(method(\u001b[39m*\u001b[39;49margs, \u001b[39m*\u001b[39;49m\u001b[39m*\u001b[39;49mkw_args), return_type)\n",
      "File \u001b[0;32m~/cola/cola/linalg/eigs.py:74\u001b[0m, in \u001b[0;36meig\u001b[0;34m(A, **kwargs)\u001b[0m\n\u001b[1;32m     72\u001b[0m     \u001b[39mreturn\u001b[39;00m eig_vals[eig_slice], Unitary(lazify(eig_vecs[:, eig_slice]))\n\u001b[1;32m     73\u001b[0m \u001b[39melif\u001b[39;00m method \u001b[39min\u001b[39;00m (\u001b[39m'\u001b[39m\u001b[39mlanczos\u001b[39m\u001b[39m'\u001b[39m, \u001b[39m'\u001b[39m\u001b[39miterative\u001b[39m\u001b[39m'\u001b[39m) \u001b[39mor\u001b[39;00m (method \u001b[39m==\u001b[39m \u001b[39m'\u001b[39m\u001b[39mauto\u001b[39m\u001b[39m'\u001b[39m \u001b[39mand\u001b[39;00m prod(A\u001b[39m.\u001b[39mshape) \u001b[39m>\u001b[39m\u001b[39m=\u001b[39m \u001b[39m1e6\u001b[39m):\n\u001b[0;32m---> 74\u001b[0m     eig_vals, eig_vecs \u001b[39m=\u001b[39m eig(LanczosDecomposition(A, \u001b[39m*\u001b[39;49m\u001b[39m*\u001b[39;49mkws), eig_slice\u001b[39m=\u001b[39meig_slice)\n\u001b[1;32m     75\u001b[0m     \u001b[39mreturn\u001b[39;00m eig_vals, eig_vecs\n\u001b[1;32m     76\u001b[0m \u001b[39melse\u001b[39;00m:\n",
      "File \u001b[0;32m~/cola/cola/algorithms/lanczos.py:103\u001b[0m, in \u001b[0;36mLanczosDecomposition\u001b[0;34m(A, start_vector, max_iters, tol, pbar)\u001b[0m\n\u001b[1;32m    100\u001b[0m \u001b[39mdef\u001b[39;00m \u001b[39mLanczosDecomposition\u001b[39m(A: LinearOperator, start_vector\u001b[39m=\u001b[39m\u001b[39mNone\u001b[39;00m, max_iters\u001b[39m=\u001b[39m\u001b[39m100\u001b[39m, tol\u001b[39m=\u001b[39m\u001b[39m1e-7\u001b[39m, pbar\u001b[39m=\u001b[39m\u001b[39mFalse\u001b[39;00m):\n\u001b[1;32m    101\u001b[0m \u001b[39m    \u001b[39m\u001b[39m\"\"\" Provides the Lanczos decomposition of a matrix A = Q T Q^*.\u001b[39;00m\n\u001b[1;32m    102\u001b[0m \u001b[39m    LinearOperator form of lanczos, see lanczos for arguments.\"\"\"\u001b[39;00m\n\u001b[0;32m--> 103\u001b[0m     Q, T, info \u001b[39m=\u001b[39m lanczos_decomp(A\u001b[39m=\u001b[39;49mA, start_vector\u001b[39m=\u001b[39;49mstart_vector, max_iters\u001b[39m=\u001b[39;49mmax_iters, tol\u001b[39m=\u001b[39;49mtol,\n\u001b[1;32m    104\u001b[0m                                 pbar\u001b[39m=\u001b[39;49mpbar)\n\u001b[1;32m    105\u001b[0m     A_approx \u001b[39m=\u001b[39m cola\u001b[39m.\u001b[39mUnitaryDecomposition(lazify(Q), SelfAdjoint(lazify(T)))\n\u001b[1;32m    106\u001b[0m     A_approx\u001b[39m.\u001b[39minfo \u001b[39m=\u001b[39m info\n",
      "File \u001b[0;32m~/cola/cola/algorithms/lanczos.py:132\u001b[0m, in \u001b[0;36mlanczos_decomp\u001b[0;34m(A, start_vector, max_iters, tol, pbar)\u001b[0m\n\u001b[1;32m    130\u001b[0m \u001b[39mif\u001b[39;00m start_vector \u001b[39mis\u001b[39;00m \u001b[39mNone\u001b[39;00m:\n\u001b[1;32m    131\u001b[0m     start_vector \u001b[39m=\u001b[39m xnp\u001b[39m.\u001b[39mfixed_normal_samples((A\u001b[39m.\u001b[39mshape[\u001b[39m0\u001b[39m], \u001b[39m1\u001b[39m))\n\u001b[0;32m--> 132\u001b[0m alpha, beta, vec, iters, info \u001b[39m=\u001b[39m lanczos_parts(A\u001b[39m=\u001b[39;49mA, rhs\u001b[39m=\u001b[39;49mstart_vector, max_iters\u001b[39m=\u001b[39;49mmax_iters,\n\u001b[1;32m    133\u001b[0m                                               tol\u001b[39m=\u001b[39;49mtol, pbar\u001b[39m=\u001b[39;49mpbar)\n\u001b[1;32m    134\u001b[0m alpha, beta, Q \u001b[39m=\u001b[39m alpha[\u001b[39m.\u001b[39m\u001b[39m.\u001b[39m\u001b[39m.\u001b[39m, :iters \u001b[39m-\u001b[39m \u001b[39m1\u001b[39m], beta[\u001b[39m.\u001b[39m\u001b[39m.\u001b[39m\u001b[39m.\u001b[39m, :iters], vec[\u001b[39m0\u001b[39m, :, :iters]\n\u001b[1;32m    135\u001b[0m T \u001b[39m=\u001b[39m construct_tridiagonal_batched(alpha, beta, alpha)[\u001b[39m0\u001b[39m]\n",
      "File \u001b[0;32m~/cola/cola/algorithms/lanczos.py:186\u001b[0m, in \u001b[0;36mlanczos_parts\u001b[0;34m(A, rhs, max_iters, tol, pbar)\u001b[0m\n\u001b[1;32m    184\u001b[0m init_val \u001b[39m=\u001b[39m initialize_lanczos_vec(xnp, rhs, max_iters\u001b[39m=\u001b[39mmax_iters, dtype\u001b[39m=\u001b[39mA\u001b[39m.\u001b[39mdtype)\n\u001b[1;32m    185\u001b[0m while_fn, info \u001b[39m=\u001b[39m xnp\u001b[39m.\u001b[39mwhile_loop_winfo(error, pbar\u001b[39m=\u001b[39mpbar, tol\u001b[39m=\u001b[39mtol)\n\u001b[0;32m--> 186\u001b[0m state \u001b[39m=\u001b[39m while_fn(cond_fun, body_fun, init_val)\n\u001b[1;32m    187\u001b[0m i, vec, beta, alpha \u001b[39m=\u001b[39m state\n\u001b[1;32m    188\u001b[0m \u001b[39mreturn\u001b[39;00m alpha[\u001b[39m.\u001b[39m\u001b[39m.\u001b[39m\u001b[39m.\u001b[39m, \u001b[39m1\u001b[39m:], beta, vec[\u001b[39m.\u001b[39m\u001b[39m.\u001b[39m\u001b[39m.\u001b[39m, \u001b[39m1\u001b[39m:\u001b[39m-\u001b[39m\u001b[39m1\u001b[39m], i \u001b[39m-\u001b[39m \u001b[39m1\u001b[39m, info\n",
      "File \u001b[0;32m~/cola/cola/utils/torch_tqdm.py:47\u001b[0m, in \u001b[0;36mwhile_loop_winfo.<locals>.new_while\u001b[0;34m(cond_fun, body_fun, init_val)\u001b[0m\n\u001b[1;32m     44\u001b[0m     info[\u001b[39m'\u001b[39m\u001b[39miterations\u001b[39m\u001b[39m'\u001b[39m] \u001b[39m+\u001b[39m\u001b[39m=\u001b[39m \u001b[39m1\u001b[39m\n\u001b[1;32m     45\u001b[0m     \u001b[39mreturn\u001b[39;00m cond_fun(state)\n\u001b[0;32m---> 47\u001b[0m out \u001b[39m=\u001b[39m while_loop(newcond, body_fun, init_val)\n\u001b[1;32m     48\u001b[0m info[\u001b[39m'\u001b[39m\u001b[39miteration_time\u001b[39m\u001b[39m'\u001b[39m] \u001b[39m=\u001b[39m (time\u001b[39m.\u001b[39mtime() \u001b[39m-\u001b[39m info[\u001b[39m'\u001b[39m\u001b[39miteration_time\u001b[39m\u001b[39m'\u001b[39m]) \u001b[39m/\u001b[39m info[\u001b[39m'\u001b[39m\u001b[39miterations\u001b[39m\u001b[39m'\u001b[39m]\n\u001b[1;32m     49\u001b[0m error \u001b[39m=\u001b[39m errorfn(out)\n",
      "File \u001b[0;32m~/cola/cola/utils/torch_tqdm.py:77\u001b[0m, in \u001b[0;36mwhile_loop\u001b[0;34m(cond_fun, body_fun, init_val)\u001b[0m\n\u001b[1;32m     75\u001b[0m val \u001b[39m=\u001b[39m init_val\n\u001b[1;32m     76\u001b[0m \u001b[39mwhile\u001b[39;00m cond_fun(val):\n\u001b[0;32m---> 77\u001b[0m     val \u001b[39m=\u001b[39m body_fun(val)\n\u001b[1;32m     78\u001b[0m \u001b[39mreturn\u001b[39;00m val\n",
      "File \u001b[0;32m~/cola/cola/algorithms/lanczos.py:166\u001b[0m, in \u001b[0;36mlanczos_parts.<locals>.body_fun\u001b[0;34m(state)\u001b[0m\n\u001b[1;32m    164\u001b[0m aux \u001b[39m=\u001b[39m beta[\u001b[39m.\u001b[39m\u001b[39m.\u001b[39m\u001b[39m.\u001b[39m, [i \u001b[39m-\u001b[39m \u001b[39m1\u001b[39m]] \u001b[39m*\u001b[39m vec[\u001b[39m.\u001b[39m\u001b[39m.\u001b[39m\u001b[39m.\u001b[39m, i] \u001b[39m+\u001b[39m alpha[\u001b[39m.\u001b[39m\u001b[39m.\u001b[39m\u001b[39m.\u001b[39m, [i \u001b[39m-\u001b[39m \u001b[39m1\u001b[39m]] \u001b[39m*\u001b[39m vec[\u001b[39m.\u001b[39m\u001b[39m.\u001b[39m\u001b[39m.\u001b[39m, i \u001b[39m-\u001b[39m \u001b[39m1\u001b[39m]\n\u001b[1;32m    165\u001b[0m new_vec \u001b[39m-\u001b[39m\u001b[39m=\u001b[39m aux\n\u001b[0;32m--> 166\u001b[0m new_vec \u001b[39m=\u001b[39m do_double_gram(vec, new_vec, xnp)\n\u001b[1;32m    168\u001b[0m vec \u001b[39m=\u001b[39m xnp\u001b[39m.\u001b[39mupdate_array(vec, new_vec, \u001b[39m.\u001b[39m\u001b[39m.\u001b[39m\u001b[39m.\u001b[39m, i \u001b[39m+\u001b[39m \u001b[39m1\u001b[39m)\n\u001b[1;32m    169\u001b[0m alpha \u001b[39m=\u001b[39m xnp\u001b[39m.\u001b[39mupdate_array(alpha, xnp\u001b[39m.\u001b[39mnorm(vec[\u001b[39m.\u001b[39m\u001b[39m.\u001b[39m\u001b[39m.\u001b[39m, i \u001b[39m+\u001b[39m \u001b[39m1\u001b[39m], axis\u001b[39m=\u001b[39m\u001b[39m-\u001b[39m\u001b[39m1\u001b[39m), \u001b[39m.\u001b[39m\u001b[39m.\u001b[39m\u001b[39m.\u001b[39m, i)\n",
      "File \u001b[0;32m~/cola/cola/algorithms/lanczos.py:202\u001b[0m, in \u001b[0;36mdo_double_gram\u001b[0;34m(vec, new_vec, xnp)\u001b[0m\n\u001b[1;32m    201\u001b[0m \u001b[39mdef\u001b[39;00m \u001b[39mdo_double_gram\u001b[39m(vec, new_vec, xnp):\n\u001b[0;32m--> 202\u001b[0m     new_vec \u001b[39m=\u001b[39m do_gram(vec, new_vec, xnp)\n\u001b[1;32m    203\u001b[0m     new_vec \u001b[39m=\u001b[39m do_gram(vec, new_vec, xnp)\n\u001b[1;32m    204\u001b[0m     \u001b[39mreturn\u001b[39;00m new_vec\n",
      "File \u001b[0;32m~/cola/cola/algorithms/lanczos.py:208\u001b[0m, in \u001b[0;36mdo_gram\u001b[0;34m(vec, new_vec, xnp)\u001b[0m\n\u001b[1;32m    207\u001b[0m \u001b[39mdef\u001b[39;00m \u001b[39mdo_gram\u001b[39m(vec, new_vec, xnp):\n\u001b[0;32m--> 208\u001b[0m     aux \u001b[39m=\u001b[39m xnp\u001b[39m.\u001b[39;49msum(xnp\u001b[39m.\u001b[39;49mconj(vec) \u001b[39m*\u001b[39;49m xnp\u001b[39m.\u001b[39;49mexpand(new_vec, \u001b[39m-\u001b[39;49m\u001b[39m1\u001b[39;49m), axis\u001b[39m=\u001b[39;49m\u001b[39m-\u001b[39;49m\u001b[39m2\u001b[39;49m, keepdims\u001b[39m=\u001b[39;49m\u001b[39mTrue\u001b[39;49;00m)\n\u001b[1;32m    209\u001b[0m     new_vec \u001b[39m-\u001b[39m\u001b[39m=\u001b[39m xnp\u001b[39m.\u001b[39msum(vec \u001b[39m*\u001b[39m aux, axis\u001b[39m=\u001b[39m\u001b[39m-\u001b[39m\u001b[39m1\u001b[39m)\n\u001b[1;32m    210\u001b[0m     \u001b[39mreturn\u001b[39;00m new_vec\n",
      "File \u001b[0;32m~/cola/cola/torch_fns.py:136\u001b[0m, in \u001b[0;36msum\u001b[0;34m(array, axis, keepdims)\u001b[0m\n\u001b[1;32m    132\u001b[0m     vec[loc] \u001b[39m=\u001b[39m \u001b[39m1.\u001b[39m\n\u001b[1;32m    133\u001b[0m     \u001b[39mreturn\u001b[39;00m vec\n\u001b[0;32m--> 136\u001b[0m \u001b[39mdef\u001b[39;00m \u001b[39msum\u001b[39m(array, axis\u001b[39m=\u001b[39m\u001b[39m0\u001b[39m, keepdims\u001b[39m=\u001b[39m\u001b[39mFalse\u001b[39;00m):\n\u001b[1;32m    137\u001b[0m     \u001b[39mreturn\u001b[39;00m torch\u001b[39m.\u001b[39msum(array, dim\u001b[39m=\u001b[39maxis, keepdims\u001b[39m=\u001b[39mkeepdims)\n\u001b[1;32m    140\u001b[0m \u001b[39mdef\u001b[39;00m \u001b[39mpermute\u001b[39m(array, axes):\n",
      "\u001b[0;31mKeyboardInterrupt\u001b[0m: "
     ]
    }
   ],
   "source": [
    "e,v = cola.eig(C,eig_slice=np.s_[:3])\n",
    "print(e, torch.linalg.eigh(C.to_dense())[0][:3])\n",
    "#TODO Andres: investigate why this is failing"
   ]
  }
 ],
 "metadata": {
  "kernelspec": {
   "display_name": "Python 3 (ipykernel)",
   "language": "python",
   "name": "python3"
  },
  "language_info": {
   "codemirror_mode": {
    "name": "ipython",
    "version": 3
   },
   "file_extension": ".py",
   "mimetype": "text/x-python",
   "name": "python",
   "nbconvert_exporter": "python",
   "pygments_lexer": "ipython3",
   "version": "3.10.12"
  }
 },
 "nbformat": 4,
 "nbformat_minor": 5
}

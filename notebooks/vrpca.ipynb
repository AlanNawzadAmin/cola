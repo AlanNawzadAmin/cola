{
 "cells": [
  {
   "cell_type": "code",
   "execution_count": 1,
   "metadata": {},
   "outputs": [],
   "source": [
    "%matplotlib inline\n",
    "%load_ext autoreload\n",
    "%autoreload 2\n",
    "import os\n",
    "os.environ[\"CUDA_DEVICE_ORDER\"]=\"PCI_BUS_ID\"\n",
    "os.environ[\"CUDA_VISIBLE_DEVICES\"] = \"3\"\n",
    "os.environ['TF_FORCE_GPU_ALLOW_GROWTH'] = 'true'\n",
    "import linops as lo\n",
    "import numpy as np\n",
    "import scipy as sp\n",
    "import scipy.linalg\n",
    "import matplotlib.pyplot as plt\n",
    "import time\n",
    "import pandas as pd\n",
    "\n",
    "import linops as lo\n",
    "import linops.algorithms"
   ]
  },
  {
   "cell_type": "code",
   "execution_count": 2,
   "metadata": {},
   "outputs": [],
   "source": [
    "# set jax to double precision\n",
    "import jax.config\n",
    "jax.config.update(\"jax_enable_x64\", True)\n"
   ]
  },
  {
   "cell_type": "code",
   "execution_count": 81,
   "metadata": {},
   "outputs": [
    {
     "name": "stdout",
     "output_type": "stream",
     "text": [
      "[2.00196382 1.96506135 1.92920211 1.8942713  1.85372192 1.81567407\n",
      " 1.77155496 1.73324599 1.69730399 1.66223046 1.62764167 1.58430261\n",
      " 1.5442654  1.50725383 1.46994288 1.43261544 1.39710151 1.3593988\n",
      " 1.32263972 1.28805    1.25185995 1.21695106 1.179856   1.14504246\n",
      " 1.10990805 1.06976446 1.03412759 0.99656457 0.95517294 0.91810738]\n"
     ]
    }
   ],
   "source": [
    "import numpy as np\n",
    "import jax.numpy as jnp\n",
    "def PCA_dataset(n=10**5,rank=100,float_type=np.float64,gap=1e-4):\n",
    "    toy_eigs2 = np.random.rand(rank)**2\n",
    "    toy_eigs2 = np.sort(toy_eigs2)[::-1]\n",
    "    toy_eigs2[:30] += np.linspace(0,1,30)[::-1]\n",
    "    toy_eigs2 += 1e-3*np.max(toy_eigs2)\n",
    "    #toy_eigs2[0] = toy_eigs2[1]+gap*toy_eigs2[1]\n",
    "    print(toy_eigs2[:30])\n",
    "    S = np.diag(toy_eigs2).astype(float_type)\n",
    "    U = np.random.randn(n,rank).astype(float_type)\n",
    "    U,_ = jnp.linalg.qr(U)\n",
    "    V = np.random.randn(rank,rank).astype(float_type)\n",
    "    V,_ = jnp.linalg.qr(V)\n",
    "    X = (np.sqrt(n)*U@S@V.T).astype(float_type)\n",
    "    A = X.T@X/n\n",
    "    return X,V,A,S\n",
    "\n",
    "\n",
    "n=10**5; rank = 500; float_type = np.float64; gap=1e-2\n",
    "#n=10**3; rank = 100; float_type = np.float32\n",
    "X,V,A_full,S = PCA_dataset(n,rank,float_type,gap)"
   ]
  },
  {
   "cell_type": "code",
   "execution_count": 82,
   "metadata": {},
   "outputs": [],
   "source": [
    "from linops import lazify\n",
    "import jax.numpy as jnp"
   ]
  },
  {
   "cell_type": "code",
   "execution_count": 83,
   "metadata": {},
   "outputs": [],
   "source": [
    "X  =jnp.asarray(X,dtype=float_type)\n",
    "C  = lazify(X.T/n)@lazify(X)"
   ]
  },
  {
   "cell_type": "code",
   "execution_count": 97,
   "metadata": {},
   "outputs": [
    {
     "name": "stdout",
     "output_type": "stream",
     "text": [
      "Using learning rate 5.144e-02 and momentum 0.000e+00 from kappa 1.000e+05 and eigmax 3.89e+00\n",
      "Using learning rate 0.0015431703480649694 and momentum 0\n"
     ]
    },
    {
     "data": {
      "application/vnd.jupyter.widget-view+json": {
       "model_id": "ba9f89933ac045adace0e940fec24cb8",
       "version_major": 2,
       "version_minor": 0
      },
      "text/plain": [
       "Running body:   0%|          | 0/100 [00:00<?,?it/s]"
      ]
     },
     "metadata": {},
     "output_type": "display_data"
    }
   ],
   "source": [
    "from linops.algorithms.svrg import svrg_eigh_max\n",
    "\n",
    "(eigs,V),info = svrg_eigh_max(C,pbar=True,info=True,max_iters=300,bs=100,lr_scale=3e-2,tol=1e-7)"
   ]
  },
  {
   "cell_type": "code",
   "execution_count": 98,
   "metadata": {},
   "outputs": [
    {
     "data": {
      "application/vnd.jupyter.widget-view+json": {
       "model_id": "04202b1cc195499687111a9e9e552803",
       "version_major": 2,
       "version_minor": 0
      },
      "text/plain": [
       "Running body:   0%|          | 0/100 [00:00<?,?it/s]"
      ]
     },
     "metadata": {},
     "output_type": "display_data"
    }
   ],
   "source": [
    "\n",
    "out2,info2 = lo.linalg.eigmax(C,pbar=True,info=True,max_iters=300,tol=1e-7)"
   ]
  },
  {
   "cell_type": "code",
   "execution_count": 99,
   "metadata": {},
   "outputs": [
    {
     "name": "stdout",
     "output_type": "stream",
     "text": [
      "1.6431886962209319e-09 4.8707915940582325e-06\n"
     ]
    }
   ],
   "source": [
    "gt = S[0,0]**2\n",
    "print(jnp.abs(eigs[0]-gt),jnp.abs(out2-gt))\n",
    "#out.T@C@out/(out.T@out)"
   ]
  },
  {
   "cell_type": "code",
   "execution_count": 100,
   "metadata": {},
   "outputs": [
    {
     "data": {
      "text/plain": [
       "Array(4.00785427, dtype=float64)"
      ]
     },
     "execution_count": 100,
     "metadata": {},
     "output_type": "execute_result"
    }
   ],
   "source": [
    "out2"
   ]
  },
  {
   "cell_type": "code",
   "execution_count": 101,
   "metadata": {},
   "outputs": [
    {
     "data": {
      "text/plain": [
       "<matplotlib.legend.Legend at 0x7f8e040e8850>"
      ]
     },
     "execution_count": 101,
     "metadata": {},
     "output_type": "execute_result"
    },
    {
     "data": {
      "image/png": "[encoded data removed]",
      "text/plain": [
       "<Figure size 640x480 with 1 Axes>"
      ]
     },
     "metadata": {},
     "output_type": "display_data"
    }
   ],
   "source": [
    "\n",
    "plt.plot(info['errors'],label='svrg')\n",
    "plt.plot(info2['errors'],label='power')\n",
    "plt.xlabel('iteration')\n",
    "plt.ylabel('error')\n",
    "plt.yscale('log')\n",
    "plt.legend()\n"
   ]
  },
  {
   "cell_type": "code",
   "execution_count": null,
   "metadata": {},
   "outputs": [],
   "source": []
  }
 ],
 "metadata": {
  "kernelspec": {
   "display_name": "gr",
   "language": "python",
   "name": "python3"
  },
  "language_info": {
   "codemirror_mode": {
    "name": "ipython",
    "version": 3
   },
   "file_extension": ".py",
   "mimetype": "text/x-python",
   "name": "python",
   "nbconvert_exporter": "python",
   "pygments_lexer": "ipython3",
   "version": "3.10.9"
  },
  "orig_nbformat": 4
 },
 "nbformat": 4,
 "nbformat_minor": 2
}
